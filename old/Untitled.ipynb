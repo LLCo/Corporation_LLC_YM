{
 "cells": [
  {
   "cell_type": "code",
   "execution_count": 49,
   "metadata": {
    "collapsed": true
   },
   "outputs": [],
   "source": [
    "import matplotlib.pyplot as plt\n",
    "import seaborn as sns\n",
    "import numpy as np\n",
    "import pandas as pd"
   ]
  },
  {
   "cell_type": "code",
   "execution_count": 41,
   "metadata": {},
   "outputs": [],
   "source": [
    "def pre_process(df):\n",
    "    df.dropna(subset=['title'], inplace=True)"
   ]
  },
  {
   "cell_type": "markdown",
   "metadata": {},
   "source": [
    " 该函数为数据预处理函数，在本次比赛中，只担负了消去Nan值的任务。"
   ]
  },
  {
   "cell_type": "code",
   "execution_count": null,
   "metadata": {
    "collapsed": true
   },
   "outputs": [],
   "source": [
    "def static_click_count(df):\n",
    "    '''\n",
    "    :param df: dataframe use to statistic\n",
    "    :return:\n",
    "    '''\n",
    "    df['assemble'] = df['prefix'] + ' ' + df['title'] + ' ' + df['type']\n",
    "    df_click = df.loc[df['click'] == 1, :].groupby('assemble', as_index=False)\n",
    "    df_noclick = df.loc[df['click'] == 0, :].groupby('assemble', as_index=False)\n",
    "    click = df_click.count().loc[:, ['assemble', 'click']]\n",
    "    unclick = df_noclick.count().loc[:, ['assemble', 'click']]\n",
    "    result = pd.merge(click, unclick, how='outer', on=['assemble', 'assemble'])\n",
    "    result.rename(columns={'click_x': 'enclick', 'click_y': 'unclick'}, inplace=True)\n",
    "    result.fillna(0, inplace=True)\n",
    "    result['rate'] = result['enclick'] / (result['enclick'] + result['unclick'])\n",
    "    result['total'] = result['enclick'] + result['unclick']\n",
    "    return result"
   ]
  },
  {
   "cell_type": "markdown",
   "metadata": {},
   "source": [
    "该函数以prefix，title，type合并，将之做为标签，来统计该标签的点击情况。\n",
    "返回的参数为Datafram格式，拥有的列为：assemble（prefix + title + type），enclick (记录出现后被点击的次数)，unclick (记录出现后未被点击的次数)，total（记录总点击的次数），rate（记录点击率）"
   ]
  },
  {
   "cell_type": "code",
   "execution_count": null,
   "metadata": {
    "collapsed": true
   },
   "outputs": [],
   "source": [
    "def click_count_assemble(test_df, statistic):\n",
    "    test_df['assemble'] = test_df['prefix'] + ' ' + test_df['title'] + ' ' + test_df['type']\n",
    "    test_result = pd.merge(test_df, statistic, left_on='assemble', right_on='assemble', how='left')\n",
    "    test_result = test_result.loc[:, ['assemble', 'enclick', 'unclick', 'total', 'rate']]\n",
    "    return test_result"
   ]
  },
  {
   "cell_type": "markdown",
   "metadata": {},
   "source": [
    " 该函数为数据预处理函数，在本次比赛中，只担负了消去Nan值的任务。"
   ]
  },
  {
   "cell_type": "code",
   "execution_count": null,
   "metadata": {
    "collapsed": true
   },
   "outputs": [],
   "source": [
    "def static_predict(train, test, thres):\n",
    "    pre_process(train)\n",
    "    statistic_result = static_click_count(train)\n",
    "    test_result = click_count_assemble(test, statistic_result)\n",
    "    test_result.fillna(0, inplace=True)\n",
    "    rate = test_result.loc[:,'rate']\n",
    "    predict_CTB = (rate > thres).values\n",
    "    return test_result, predict_CTB"
   ]
  },
  {
   "cell_type": "markdown",
   "metadata": {},
   "source": [
    " 该函数为数据预处理函数，在本次比赛中，只担负了消去Nan值的任务。"
   ]
  },
  {
   "cell_type": "code",
   "execution_count": 79,
   "metadata": {
    "collapsed": true
   },
   "outputs": [],
   "source": [
    "test_df = pd.read_csv('..\\data\\oppo_train_valt_est_csv\\oppo_round1_test_A_20180929.csv', encoding='UTF-8')\n",
    "train_df = pd.read_csv('..\\data\\oppo_train_valt_est_csv\\oppo_round1_train_20180929.csv', encoding='UTF-8')\n",
    "vali_df = pd.read_csv('..\\data\\oppo_train_valt_est_csv\\oppo_round1_vali_20180929.csv', encoding='UTF-8')"
   ]
  },
  {
   "cell_type": "code",
   "execution_count": 80,
   "metadata": {},
   "outputs": [],
   "source": [
    "vali_true = vali_df.loc[:, 'click']\n",
    "true_CTB = np.where(true.values==1, True, False)"
   ]
  },
  {
   "cell_type": "code",
   "execution_count": 91,
   "metadata": {},
   "outputs": [],
   "source": [
    "thres = 0.5\n",
    "test_predict, predict_CTB = static_predict(train_df, vali_df, thres)"
   ]
  },
  {
   "cell_type": "markdown",
   "metadata": {},
   "source": [
    "# Analysis Part"
   ]
  },
  {
   "cell_type": "code",
   "execution_count": 93,
   "metadata": {
    "scrolled": true
   },
   "outputs": [
    {
     "name": "stdout",
     "output_type": "stream",
     "text": [
      "31415\n"
     ]
    }
   ],
   "source": [
    "is_right = ~(predict_CTB^true_CTB)\n",
    "print(is_right.sum())\n",
    "test_predict['is_right'] = is_right"
   ]
  },
  {
   "cell_type": "code",
   "execution_count": 57,
   "metadata": {},
   "outputs": [
    {
     "name": "stderr",
     "output_type": "stream",
     "text": [
      "D:\\anaconda3\\lib\\site-packages\\scipy\\stats\\stats.py:1713: FutureWarning: Using a non-tuple sequence for multidimensional indexing is deprecated; use `arr[tuple(seq)]` instead of `arr[seq]`. In the future this will be interpreted as an array index, `arr[np.array(seq)]`, which will result either in an error or a different result.\n",
      "  return np.add.reduce(sorted[indexer] * weights, axis=axis) / sumval\n"
     ]
    },
    {
     "data": {
      "image/png": "[encoded data removed]",
      "text/plain": [
       "<Figure size 432x216 with 2 Axes>"
      ]
     },
     "metadata": {},
     "output_type": "display_data"
    },
    {
     "data": {
      "image/png": "[encoded data removed]",
      "text/plain": [
       "<Figure size 432x216 with 2 Axes>"
      ]
     },
     "metadata": {},
     "output_type": "display_data"
    }
   ],
   "source": [
    "g = sns.FacetGrid(test_predict, col='is_right')\n",
    "g = g.map(sns.distplot, \"total\")\n",
    "\n",
    "g = sns.FacetGrid(test_predict, col='is_right')\n",
    "g = g.map(sns.distplot, \"rate\")\n",
    "plt.show()"
   ]
  },
  {
   "cell_type": "code",
   "execution_count": null,
   "metadata": {},
   "outputs": [],
   "source": []
  },
  {
   "cell_type": "code",
   "execution_count": null,
   "metadata": {
    "collapsed": true
   },
   "outputs": [],
   "source": []
  },
  {
   "cell_type": "code",
   "execution_count": null,
   "metadata": {
    "collapsed": true
   },
   "outputs": [],
   "source": []
  }
 ],
 "metadata": {
  "kernelspec": {
   "display_name": "Python 3",
   "language": "python",
   "name": "python3"
  },
  "language_info": {
   "codemirror_mode": {
    "name": "ipython",
    "version": 3
   },
   "file_extension": ".py",
   "mimetype": "text/x-python",
   "name": "python",
   "nbconvert_exporter": "python",
   "pygments_lexer": "ipython3",
   "version": "3.6.6"
  }
 },
 "nbformat": 4,
 "nbformat_minor": 2
}
