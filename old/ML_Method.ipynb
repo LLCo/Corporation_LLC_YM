{
 "cells": [
  {
   "cell_type": "code",
   "execution_count": 2,
   "metadata": {
    "collapsed": true
   },
   "outputs": [],
   "source": [
    "import pandas as pd\n",
    "import numpy as np\n",
    "import lightgbm as lgb\n",
    "from sklearn.model_selection import StratifiedKFold\n",
    "from sklearn.metrics import f1_score"
   ]
  },
  {
   "cell_type": "code",
   "execution_count": 3,
   "metadata": {
    "collapsed": true
   },
   "outputs": [],
   "source": [
    "def lgb_f1_score(y_hat, data):\n",
    "    y_true = data.get_label()\n",
    "    y_hat = np.round(y_hat) # scikits f1 doesn't like probabilities\n",
    "    return 'f1', f1_score(y_true, y_hat), True\n",
    "\n",
    "def lgb_f1_score_sk(y_hat, y_true):\n",
    "    y_true = np.round(y_true)\n",
    "    y_hat = np.round(y_hat) # scikits f1 doesn't like probabilities\n",
    "    return 'f1', f1_score(y_true, y_hat), True"
   ]
  },
  {
   "cell_type": "code",
   "execution_count": 4,
   "metadata": {
    "collapsed": true
   },
   "outputs": [],
   "source": [
    "pd.set_option('display.expand_frame_repr', False)"
   ]
  },
  {
   "cell_type": "code",
   "execution_count": 5,
   "metadata": {},
   "outputs": [
    {
     "name": "stderr",
     "output_type": "stream",
     "text": [
      "D:\\anaconda3\\lib\\site-packages\\IPython\\core\\interactiveshell.py:2717: DtypeWarning: Columns (4) have mixed types. Specify dtype option on import or set low_memory=False.\n",
      "  interactivity=interactivity, compiler=compiler, result=result)\n"
     ]
    }
   ],
   "source": [
    "train_data = pd.read_table('../data/oppo_round1_train_20180929.txt', \n",
    "        names= ['prefix','query_prediction','title','tag','label'], header= None, encoding='utf-8').astype(str)\n",
    "val_data = pd.read_table('../data/oppo_round1_vali_20180929.txt', \n",
    "        names = ['prefix','query_prediction','title','tag','label'], header = None, encoding='utf-8').astype(str)\n",
    "test_data = pd.read_table('../data/oppo_round1_test_A_20180929.txt',\n",
    "        names = ['prefix','query_prediction','title','tag'],header = None, encoding='utf-8').astype(str)"
   ]
  },
  {
   "cell_type": "code",
   "execution_count": 6,
   "metadata": {
    "collapsed": true,
    "scrolled": true
   },
   "outputs": [],
   "source": [
    "# train_data.describe(include='all')\n",
    "# print(train_data.dtypes)\n",
    "# print()\n",
    "# # Focus first on null values\n",
    "# print(val_data.isna().sum())\n",
    "# print(val_data.head())"
   ]
  },
  {
   "cell_type": "code",
   "execution_count": 7,
   "metadata": {
    "collapsed": true
   },
   "outputs": [],
   "source": [
    "train_data = train_data[train_data['label'] != '音乐' ]"
   ]
  },
  {
   "cell_type": "code",
   "execution_count": 8,
   "metadata": {
    "collapsed": true
   },
   "outputs": [],
   "source": [
    "test_data['label'] = -1"
   ]
  },
  {
   "cell_type": "code",
   "execution_count": 9,
   "metadata": {
    "collapsed": true
   },
   "outputs": [],
   "source": [
    "# train_data = pd.concat([train_data,val_data.copy()])\n",
    "train_data['label'] = train_data['label'].apply(lambda x: int(x))\n",
    "val_data['label'] = val_data['label'].apply(lambda x: int(x))\n",
    "test_data['label'] = test_data['label'].apply(lambda x: int(x))"
   ]
  },
  {
   "cell_type": "code",
   "execution_count": 10,
   "metadata": {
    "collapsed": true
   },
   "outputs": [],
   "source": [
    "items = ['prefix', 'title', 'tag']"
   ]
  },
  {
   "cell_type": "markdown",
   "metadata": {},
   "source": [
    "## 以下部分用于生成统计特征\n",
    "\n",
    "共21组，分别为prefix，title，tag的统计特征或是他们任意组合的统计特征。\n",
    "统计特征为：CTR，CTC，Count\n",
    "\n",
    "## groupby(items，as_index)[‘target’].agg({name:func,...}) 的用法解释\n",
    "\n",
    "以items进行分组，然后对每一组（items相同）的target对象进行多个函数操作。\n",
    "func代表操作的名称，name代表操作后保存的列的名称"
   ]
  },
  {
   "cell_type": "code",
   "execution_count": 11,
   "metadata": {
    "collapsed": true
   },
   "outputs": [],
   "source": [
    "temp = train_data.groupby(items, as_index=False)['label'].agg({'_'.join(items)+'_click': 'sum','_'.join(items)+'_count':'count'})\n",
    "temp['_'.join(items)+'_ctr'] = temp['_'.join(items)+'_click']/(temp['_'.join(items)+'_count'])\n",
    "train_data = pd.merge(train_data, temp, on=items, how='left')\n",
    "val_data = pd.merge(val_data, temp, on=items, how='left')\n",
    "test_data = pd.merge(test_data, temp, on=items, how='left')\n",
    "\n",
    "for item in items:\n",
    "    temp = train_data.groupby(item, as_index = False)['label'].agg({item+'_click':'sum', item+'_count':'count'})\n",
    "    temp[item+'_ctr'] = temp[item+'_click']/(temp[item+'_count'])\n",
    "    train_data = pd.merge(train_data, temp, on=item, how='left')\n",
    "    val_data = pd.merge(val_data, temp, on=item, how='left')\n",
    "    test_data = pd.merge(test_data, temp, on=item, how='left')\n",
    "    \n",
    "for i in range(len(items)):\n",
    "    for j in range(i+1, len(items)):\n",
    "        item_g = [items[i], items[j]]\n",
    "        temp = train_data.groupby(item_g, as_index=False)['label'].agg({'_'.join(item_g)+'_click': 'sum','_'.join(item_g)+'_count':'count'})\n",
    "        temp['_'.join(item_g)+'_ctr'] = temp['_'.join(item_g)+'_click']/(temp['_'.join(item_g)+'_count'])\n",
    "        train_data = pd.merge(train_data, temp, on=item_g, how='left')\n",
    "        val_data = pd.merge(val_data, temp, on=item_g, how='left')\n",
    "        test_data = pd.merge(test_data, temp, on=item_g, how='left')"
   ]
  },
  {
   "cell_type": "code",
   "execution_count": 1,
   "metadata": {
    "scrolled": true
   },
   "outputs": [
    {
     "ename": "NameError",
     "evalue": "name 'val_data' is not defined",
     "output_type": "error",
     "traceback": [
      "\u001b[1;31m---------------------------------------------------------------------------\u001b[0m",
      "\u001b[1;31mNameError\u001b[0m                                 Traceback (most recent call last)",
      "\u001b[1;32m<ipython-input-1-73794472ae7a>\u001b[0m in \u001b[0;36m<module>\u001b[1;34m()\u001b[0m\n\u001b[0;32m      3\u001b[0m \u001b[1;31m# train_data_.dtypes\u001b[0m\u001b[1;33m\u001b[0m\u001b[1;33m\u001b[0m\u001b[0m\n\u001b[0;32m      4\u001b[0m \u001b[1;31m# train_data_.isna().sum()\u001b[0m\u001b[1;33m\u001b[0m\u001b[1;33m\u001b[0m\u001b[0m\n\u001b[1;32m----> 5\u001b[1;33m \u001b[0mval_data\u001b[0m\u001b[1;33m.\u001b[0m\u001b[0minna\u001b[0m\u001b[1;33m(\u001b[0m\u001b[1;33m)\u001b[0m\u001b[1;33m.\u001b[0m\u001b[0msum\u001b[0m\u001b[1;33m(\u001b[0m\u001b[1;33m)\u001b[0m\u001b[1;33m\u001b[0m\u001b[0m\n\u001b[0m",
      "\u001b[1;31mNameError\u001b[0m: name 'val_data' is not defined"
     ]
    }
   ],
   "source": [
    "# train_data_.head()\n",
    "# train_data_.describe()\n",
    "# train_data_.dtypes\n",
    "# train_data_.isna().sum()\n"
   ]
  },
  {
   "cell_type": "code",
   "execution_count": 13,
   "metadata": {
    "collapsed": true
   },
   "outputs": [],
   "source": [
    "train_data_ = train_data.drop(['prefix', 'query_prediction', 'title', 'tag'], axis = 1)\n",
    "val_data_ = val_data.drop(['prefix', 'query_prediction', 'title', 'tag'], axis = 1)\n",
    "test_data_ = test_data.drop(['prefix', 'query_prediction', 'title', 'tag'], axis = 1)"
   ]
  },
  {
   "cell_type": "code",
   "execution_count": 14,
   "metadata": {
    "scrolled": true
   },
   "outputs": [
    {
     "name": "stdout",
     "output_type": "stream",
     "text": [
      "train beginning\n",
      "================================\n",
      "(1999998, 21)\n",
      "(1999998,)\n",
      "(50000,)\n",
      "(50000, 21)\n",
      "================================\n"
     ]
    }
   ],
   "source": [
    "print('train beginning')\n",
    "\n",
    "X = np.array(train_data_.drop(['label'], axis = 1))\n",
    "y = np.array(train_data_['label'])\n",
    "X_test_ = np.array(test_data_.drop(['label'], axis = 1))\n",
    "X_vali_label_ = np.array(val_data_.loc[:, 'label'])\n",
    "X_vali_ = np.array(val_data_.drop(['label'], axis = 1))\n",
    "print('================================')\n",
    "print(X.shape)\n",
    "print(y.shape)\n",
    "print(X_vali_label_.shape)\n",
    "print(X_vali_.shape)\n",
    "print('================================')"
   ]
  },
  {
   "cell_type": "code",
   "execution_count": 21,
   "metadata": {},
   "outputs": [
    {
     "name": "stdout",
     "output_type": "stream",
     "text": [
      "================================\n",
      "(50000, 21)\n",
      "(50000, 21)\n",
      "================================\n"
     ]
    }
   ],
   "source": [
    "print('================================')\n",
    "print(X_test_.shape)\n",
    "print(X_vali_.shape)\n",
    "print('================================')\n",
    "# skf = StratifiedKFold(n_splits=N, random_state=42, shuffle=True)\n",
    "# k_fold = skf.split(X_vali_, X_vali_label_)\n",
    "# k_fold = list(k_fold)"
   ]
  },
  {
   "cell_type": "code",
   "execution_count": 16,
   "metadata": {
    "collapsed": true
   },
   "outputs": [],
   "source": [
    "xx_logloss = []\n",
    "xx_submit = []\n",
    "N = 5\n",
    "skf = StratifiedKFold(n_splits=N, random_state=42, shuffle=True)\n",
    "\n",
    "params = {\n",
    "    'boosting_type': 'gbdt',\n",
    "    'objective': 'binary',\n",
    "    'metric': 'binary_logloss',\n",
    "    'num_leaves': 32,\n",
    "    'learning_rate': 0.05,\n",
    "    'feature_fraction': 0.9,\n",
    "    'bagging_fraction': 0.8,\n",
    "    'bagging_freq': 5,\n",
    "    'verbose': 1\n",
    "}"
   ]
  },
  {
   "cell_type": "code",
   "execution_count": 17,
   "metadata": {
    "scrolled": true
   },
   "outputs": [
    {
     "name": "stdout",
     "output_type": "stream",
     "text": [
      "train _K_ flod 0\n"
     ]
    },
    {
     "name": "stderr",
     "output_type": "stream",
     "text": [
      "D:\\anaconda3\\lib\\site-packages\\sklearn\\metrics\\classification.py:1135: UndefinedMetricWarning: F-score is ill-defined and being set to 0.0 due to no predicted samples.\n",
      "  'precision', 'predicted', average, warn_for)\n"
     ]
    },
    {
     "name": "stdout",
     "output_type": "stream",
     "text": [
      "Training until validation scores don't improve for 50 rounds.\n",
      "[50]\tvalid_0's binary_logloss: 0.436646\tvalid_0's f1: 0.708729\n",
      "Early stopping, best iteration is:\n",
      "[49]\tvalid_0's binary_logloss: 0.436639\tvalid_0's f1: 0.70798\n",
      "0.7079803834150691\n",
      "train _K_ flod 1\n",
      "Training until validation scores don't improve for 50 rounds.\n",
      "[50]\tvalid_0's binary_logloss: 0.426766\tvalid_0's f1: 0.707993\n",
      "[100]\tvalid_0's binary_logloss: 0.436949\tvalid_0's f1: 0.71263\n",
      "Early stopping, best iteration is:\n",
      "[53]\tvalid_0's binary_logloss: 0.426544\tvalid_0's f1: 0.708962\n",
      "0.7089618456078084\n",
      "train _K_ flod 2\n",
      "Training until validation scores don't improve for 50 rounds.\n",
      "[50]\tvalid_0's binary_logloss: 0.434612\tvalid_0's f1: 0.713247\n",
      "Early stopping, best iteration is:\n",
      "[49]\tvalid_0's binary_logloss: 0.434602\tvalid_0's f1: 0.713247\n",
      "0.713247292686545\n",
      "train _K_ flod 3\n",
      "Training until validation scores don't improve for 50 rounds.\n",
      "[50]\tvalid_0's binary_logloss: 0.424211\tvalid_0's f1: 0.714094\n",
      "[100]\tvalid_0's binary_logloss: 0.437148\tvalid_0's f1: 0.717684\n",
      "Early stopping, best iteration is:\n",
      "[52]\tvalid_0's binary_logloss: 0.424152\tvalid_0's f1: 0.71384\n",
      "0.7138397502601457\n",
      "train _K_ flod 4\n",
      "Training until validation scores don't improve for 50 rounds.\n",
      "[50]\tvalid_0's binary_logloss: 0.43298\tvalid_0's f1: 0.702613\n",
      "[100]\tvalid_0's binary_logloss: 0.446284\tvalid_0's f1: 0.704192\n",
      "Early stopping, best iteration is:\n",
      "[50]\tvalid_0's binary_logloss: 0.43298\tvalid_0's f1: 0.702613\n",
      "0.7026133974166416\n",
      "\n",
      "\n",
      "Eventually score: 0.7093285338772419\n"
     ]
    }
   ],
   "source": [
    "xx_logloss = []\n",
    "xx_submit = []\n",
    "for k, (train_vali, test_vali) in enumerate(skf.split(X_vali_, X_vali_label_)):\n",
    "    print('train _K_ flod', k)\n",
    "    X_train_combine = np.vstack([X, X_vali_[train_vali]])\n",
    "    Y_train_combine = np.hstack([y, X_vali_label_[train_vali]])\n",
    "    \n",
    "    lgb_train = lgb.Dataset(X_train_combine, Y_train_combine)\n",
    "    lgb_eval = lgb.Dataset(X_vali_[test_vali], X_vali_label_[test_vali], reference=lgb_train)\n",
    "\n",
    "    gbm = lgb.train(params,\n",
    "                    lgb_train,\n",
    "                    num_boost_round=5000,\n",
    "                    valid_sets=lgb_eval,\n",
    "                    early_stopping_rounds=50,\n",
    "                    verbose_eval=50,\n",
    "                    feval=lgb_f1_score\n",
    "                    )\n",
    "    \n",
    "    print(f1_score(X_vali_label_[test_vali], \n",
    "                   np.where(gbm.predict(X_vali_[test_vali], num_iteration=gbm.best_iteration)>0.5, 1,0)))\n",
    "    xx_logloss.append(gbm.best_score['valid_0']['f1'])\n",
    "    xx_submit.append(gbm.predict(X_vali_, num_iteration=gbm.best_iteration))\n",
    "print('\\n\\nEventually score:', np.mean(xx_logloss))"
   ]
  },
  {
   "cell_type": "markdown",
   "metadata": {},
   "source": [
    "# Sklearing API\n",
    "\n",
    "能够比较方便、容易的使用Sklearning的接口进行调试。"
   ]
  },
  {
   "cell_type": "code",
   "execution_count": 23,
   "metadata": {},
   "outputs": [
    {
     "name": "stdout",
     "output_type": "stream",
     "text": [
      "train _K_ flod 0\n"
     ]
    },
    {
     "name": "stderr",
     "output_type": "stream",
     "text": [
      "D:\\anaconda3\\lib\\site-packages\\sklearn\\metrics\\classification.py:1137: UndefinedMetricWarning: F-score is ill-defined and being set to 0.0 due to no true samples.\n",
      "  'recall', 'true', average, warn_for)\n"
     ]
    },
    {
     "name": "stdout",
     "output_type": "stream",
     "text": [
      "[1]\tvalid_0's binary_logloss: 0.639613\tvalid_0's f1: 0\n",
      "Training until validation scores don't improve for 50 rounds.\n",
      "[2]\tvalid_0's binary_logloss: 0.62148\tvalid_0's f1: 0\n",
      "[3]\tvalid_0's binary_logloss: 0.605142\tvalid_0's f1: 0\n",
      "[4]\tvalid_0's binary_logloss: 0.590486\tvalid_0's f1: 0\n",
      "[5]\tvalid_0's binary_logloss: 0.57711\tvalid_0's f1: 0.377246\n",
      "[6]\tvalid_0's binary_logloss: 0.565153\tvalid_0's f1: 0.485793\n",
      "[7]\tvalid_0's binary_logloss: 0.554116\tvalid_0's f1: 0.532426\n",
      "[8]\tvalid_0's binary_logloss: 0.544132\tvalid_0's f1: 0.588955\n",
      "[9]\tvalid_0's binary_logloss: 0.534946\tvalid_0's f1: 0.611674\n",
      "[10]\tvalid_0's binary_logloss: 0.526499\tvalid_0's f1: 0.623623\n",
      "[11]\tvalid_0's binary_logloss: 0.518698\tvalid_0's f1: 0.627947\n",
      "[12]\tvalid_0's binary_logloss: 0.511623\tvalid_0's f1: 0.668584\n",
      "[13]\tvalid_0's binary_logloss: 0.505131\tvalid_0's f1: 0.671855\n",
      "[14]\tvalid_0's binary_logloss: 0.499245\tvalid_0's f1: 0.679584\n",
      "[15]\tvalid_0's binary_logloss: 0.493894\tvalid_0's f1: 0.687296\n",
      "[16]\tvalid_0's binary_logloss: 0.488831\tvalid_0's f1: 0.689762\n",
      "[17]\tvalid_0's binary_logloss: 0.484254\tvalid_0's f1: 0.690432\n",
      "[18]\tvalid_0's binary_logloss: 0.479856\tvalid_0's f1: 0.690432\n",
      "[19]\tvalid_0's binary_logloss: 0.475764\tvalid_0's f1: 0.69339\n",
      "[20]\tvalid_0's binary_logloss: 0.471955\tvalid_0's f1: 0.69339\n",
      "[21]\tvalid_0's binary_logloss: 0.468624\tvalid_0's f1: 0.695626\n",
      "[22]\tvalid_0's binary_logloss: 0.465526\tvalid_0's f1: 0.698153\n",
      "[23]\tvalid_0's binary_logloss: 0.46266\tvalid_0's f1: 0.698153\n",
      "[24]\tvalid_0's binary_logloss: 0.459942\tvalid_0's f1: 0.700105\n",
      "[25]\tvalid_0's binary_logloss: 0.457391\tvalid_0's f1: 0.700105\n",
      "[26]\tvalid_0's binary_logloss: 0.455085\tvalid_0's f1: 0.700105\n",
      "[27]\tvalid_0's binary_logloss: 0.452986\tvalid_0's f1: 0.701591\n",
      "[28]\tvalid_0's binary_logloss: 0.451197\tvalid_0's f1: 0.701591\n",
      "[29]\tvalid_0's binary_logloss: 0.44959\tvalid_0's f1: 0.701591\n",
      "[30]\tvalid_0's binary_logloss: 0.448128\tvalid_0's f1: 0.701591\n",
      "[31]\tvalid_0's binary_logloss: 0.446817\tvalid_0's f1: 0.703067\n",
      "[32]\tvalid_0's binary_logloss: 0.445453\tvalid_0's f1: 0.703067\n",
      "[33]\tvalid_0's binary_logloss: 0.444382\tvalid_0's f1: 0.703067\n",
      "[34]\tvalid_0's binary_logloss: 0.443367\tvalid_0's f1: 0.703067\n",
      "[35]\tvalid_0's binary_logloss: 0.442453\tvalid_0's f1: 0.704091\n",
      "[36]\tvalid_0's binary_logloss: 0.441571\tvalid_0's f1: 0.704091\n",
      "[37]\tvalid_0's binary_logloss: 0.440743\tvalid_0's f1: 0.704284\n",
      "[38]\tvalid_0's binary_logloss: 0.440141\tvalid_0's f1: 0.704284\n",
      "[39]\tvalid_0's binary_logloss: 0.439466\tvalid_0's f1: 0.703809\n",
      "[40]\tvalid_0's binary_logloss: 0.438884\tvalid_0's f1: 0.706601\n",
      "[41]\tvalid_0's binary_logloss: 0.438429\tvalid_0's f1: 0.706601\n",
      "[42]\tvalid_0's binary_logloss: 0.43793\tvalid_0's f1: 0.707491\n",
      "[43]\tvalid_0's binary_logloss: 0.437616\tvalid_0's f1: 0.707491\n",
      "[44]\tvalid_0's binary_logloss: 0.437367\tvalid_0's f1: 0.707491\n",
      "[45]\tvalid_0's binary_logloss: 0.437223\tvalid_0's f1: 0.707491\n",
      "[46]\tvalid_0's binary_logloss: 0.437135\tvalid_0's f1: 0.707491\n",
      "[47]\tvalid_0's binary_logloss: 0.437095\tvalid_0's f1: 0.707491\n",
      "[48]\tvalid_0's binary_logloss: 0.436959\tvalid_0's f1: 0.707386\n",
      "[49]\tvalid_0's binary_logloss: 0.436921\tvalid_0's f1: 0.707386\n",
      "[50]\tvalid_0's binary_logloss: 0.436913\tvalid_0's f1: 0.707386\n",
      "[51]\tvalid_0's binary_logloss: 0.436857\tvalid_0's f1: 0.707386\n",
      "[52]\tvalid_0's binary_logloss: 0.436865\tvalid_0's f1: 0.707838\n",
      "[53]\tvalid_0's binary_logloss: 0.436969\tvalid_0's f1: 0.707838\n",
      "[54]\tvalid_0's binary_logloss: 0.437123\tvalid_0's f1: 0.707838\n",
      "[55]\tvalid_0's binary_logloss: 0.437307\tvalid_0's f1: 0.709534\n",
      "[56]\tvalid_0's binary_logloss: 0.437529\tvalid_0's f1: 0.709534\n",
      "[57]\tvalid_0's binary_logloss: 0.437695\tvalid_0's f1: 0.709496\n",
      "[58]\tvalid_0's binary_logloss: 0.437967\tvalid_0's f1: 0.709877\n",
      "[59]\tvalid_0's binary_logloss: 0.438164\tvalid_0's f1: 0.709496\n",
      "[60]\tvalid_0's binary_logloss: 0.438394\tvalid_0's f1: 0.709392\n",
      "[61]\tvalid_0's binary_logloss: 0.438685\tvalid_0's f1: 0.709773\n",
      "[62]\tvalid_0's binary_logloss: 0.438837\tvalid_0's f1: 0.710153\n",
      "[63]\tvalid_0's binary_logloss: 0.439184\tvalid_0's f1: 0.710724\n",
      "[64]\tvalid_0's binary_logloss: 0.439487\tvalid_0's f1: 0.710724\n",
      "[65]\tvalid_0's binary_logloss: 0.439863\tvalid_0's f1: 0.710724\n",
      "[66]\tvalid_0's binary_logloss: 0.440235\tvalid_0's f1: 0.710724\n",
      "[67]\tvalid_0's binary_logloss: 0.440589\tvalid_0's f1: 0.710344\n",
      "[68]\tvalid_0's binary_logloss: 0.440999\tvalid_0's f1: 0.709687\n",
      "[69]\tvalid_0's binary_logloss: 0.441405\tvalid_0's f1: 0.709687\n",
      "[70]\tvalid_0's binary_logloss: 0.441818\tvalid_0's f1: 0.709687\n",
      "[71]\tvalid_0's binary_logloss: 0.442181\tvalid_0's f1: 0.710554\n",
      "[72]\tvalid_0's binary_logloss: 0.442526\tvalid_0's f1: 0.710554\n",
      "[73]\tvalid_0's binary_logloss: 0.442889\tvalid_0's f1: 0.710449\n",
      "[74]\tvalid_0's binary_logloss: 0.443297\tvalid_0's f1: 0.710363\n",
      "[75]\tvalid_0's binary_logloss: 0.443666\tvalid_0's f1: 0.71119\n",
      "[76]\tvalid_0's binary_logloss: 0.444051\tvalid_0's f1: 0.711314\n",
      "[77]\tvalid_0's binary_logloss: 0.444488\tvalid_0's f1: 0.711884\n",
      "[78]\tvalid_0's binary_logloss: 0.444895\tvalid_0's f1: 0.711714\n",
      "[79]\tvalid_0's binary_logloss: 0.4452\tvalid_0's f1: 0.711714\n",
      "[80]\tvalid_0's binary_logloss: 0.445537\tvalid_0's f1: 0.711924\n",
      "[81]\tvalid_0's binary_logloss: 0.445907\tvalid_0's f1: 0.711924\n",
      "[82]\tvalid_0's binary_logloss: 0.446297\tvalid_0's f1: 0.711924\n",
      "[83]\tvalid_0's binary_logloss: 0.446754\tvalid_0's f1: 0.711544\n",
      "[84]\tvalid_0's binary_logloss: 0.447147\tvalid_0's f1: 0.711544\n",
      "[85]\tvalid_0's binary_logloss: 0.447482\tvalid_0's f1: 0.711544\n",
      "[86]\tvalid_0's binary_logloss: 0.447872\tvalid_0's f1: 0.711544\n",
      "[87]\tvalid_0's binary_logloss: 0.448229\tvalid_0's f1: 0.711544\n",
      "[88]\tvalid_0's binary_logloss: 0.448602\tvalid_0's f1: 0.711544\n",
      "[89]\tvalid_0's binary_logloss: 0.448949\tvalid_0's f1: 0.711544\n",
      "[90]\tvalid_0's binary_logloss: 0.449381\tvalid_0's f1: 0.711544\n",
      "[91]\tvalid_0's binary_logloss: 0.449816\tvalid_0's f1: 0.711544\n",
      "[92]\tvalid_0's binary_logloss: 0.450143\tvalid_0's f1: 0.711544\n",
      "[93]\tvalid_0's binary_logloss: 0.450514\tvalid_0's f1: 0.711544\n",
      "[94]\tvalid_0's binary_logloss: 0.450869\tvalid_0's f1: 0.711544\n",
      "[95]\tvalid_0's binary_logloss: 0.4512\tvalid_0's f1: 0.711544\n",
      "[96]\tvalid_0's binary_logloss: 0.451582\tvalid_0's f1: 0.711544\n",
      "[97]\tvalid_0's binary_logloss: 0.451919\tvalid_0's f1: 0.711544\n",
      "[98]\tvalid_0's binary_logloss: 0.452289\tvalid_0's f1: 0.711544\n",
      "[99]\tvalid_0's binary_logloss: 0.452645\tvalid_0's f1: 0.711544\n",
      "[100]\tvalid_0's binary_logloss: 0.453\tvalid_0's f1: 0.711544\n",
      "[101]\tvalid_0's binary_logloss: 0.453336\tvalid_0's f1: 0.711544\n",
      "Early stopping, best iteration is:\n",
      "[51]\tvalid_0's binary_logloss: 0.436857\tvalid_0's f1: 0.707386\n"
     ]
    },
    {
     "name": "stderr",
     "output_type": "stream",
     "text": [
      "D:\\anaconda3\\lib\\site-packages\\sklearn\\preprocessing\\label.py:151: DeprecationWarning: The truth value of an empty array is ambiguous. Returning False, but in future this will result in an error. Use `array.size > 0` to check that an array is not empty.\n",
      "  if diff:\n"
     ]
    },
    {
     "name": "stdout",
     "output_type": "stream",
     "text": [
      "0.7073859414474661\n",
      "train _K_ flod 1\n"
     ]
    },
    {
     "name": "stderr",
     "output_type": "stream",
     "text": [
      "D:\\anaconda3\\lib\\site-packages\\sklearn\\metrics\\classification.py:1137: UndefinedMetricWarning: F-score is ill-defined and being set to 0.0 due to no true samples.\n",
      "  'recall', 'true', average, warn_for)\n"
     ]
    },
    {
     "name": "stdout",
     "output_type": "stream",
     "text": [
      "[1]\tvalid_0's binary_logloss: 0.639008\tvalid_0's f1: 0\n",
      "Training until validation scores don't improve for 50 rounds.\n",
      "[2]\tvalid_0's binary_logloss: 0.620463\tvalid_0's f1: 0\n",
      "[3]\tvalid_0's binary_logloss: 0.603695\tvalid_0's f1: 0\n",
      "[4]\tvalid_0's binary_logloss: 0.588572\tvalid_0's f1: 0\n",
      "[5]\tvalid_0's binary_logloss: 0.574918\tvalid_0's f1: 0.39524\n",
      "[6]\tvalid_0's binary_logloss: 0.562484\tvalid_0's f1: 0.504983\n",
      "[7]\tvalid_0's binary_logloss: 0.551148\tvalid_0's f1: 0.552769\n",
      "[8]\tvalid_0's binary_logloss: 0.540814\tvalid_0's f1: 0.600178\n",
      "[9]\tvalid_0's binary_logloss: 0.53143\tvalid_0's f1: 0.625975\n",
      "[10]\tvalid_0's binary_logloss: 0.522637\tvalid_0's f1: 0.641509\n",
      "[11]\tvalid_0's binary_logloss: 0.514582\tvalid_0's f1: 0.666667\n",
      "[12]\tvalid_0's binary_logloss: 0.507329\tvalid_0's f1: 0.678414\n",
      "[13]\tvalid_0's binary_logloss: 0.500685\tvalid_0's f1: 0.67995\n",
      "[14]\tvalid_0's binary_logloss: 0.494599\tvalid_0's f1: 0.684645\n",
      "[15]\tvalid_0's binary_logloss: 0.488959\tvalid_0's f1: 0.689708\n",
      "[16]\tvalid_0's binary_logloss: 0.483764\tvalid_0's f1: 0.691468\n",
      "[17]\tvalid_0's binary_logloss: 0.478923\tvalid_0's f1: 0.693227\n",
      "[18]\tvalid_0's binary_logloss: 0.474456\tvalid_0's f1: 0.693227\n",
      "[19]\tvalid_0's binary_logloss: 0.470268\tvalid_0's f1: 0.695639\n",
      "[20]\tvalid_0's binary_logloss: 0.466279\tvalid_0's f1: 0.697872\n",
      "[21]\tvalid_0's binary_logloss: 0.462809\tvalid_0's f1: 0.698667\n",
      "[22]\tvalid_0's binary_logloss: 0.459643\tvalid_0's f1: 0.701887\n",
      "[23]\tvalid_0's binary_logloss: 0.456412\tvalid_0's f1: 0.701887\n",
      "[24]\tvalid_0's binary_logloss: 0.453714\tvalid_0's f1: 0.704043\n",
      "[25]\tvalid_0's binary_logloss: 0.451191\tvalid_0's f1: 0.704043\n",
      "[26]\tvalid_0's binary_logloss: 0.448603\tvalid_0's f1: 0.704043\n",
      "[27]\tvalid_0's binary_logloss: 0.446259\tvalid_0's f1: 0.705178\n",
      "[28]\tvalid_0's binary_logloss: 0.444137\tvalid_0's f1: 0.705178\n",
      "[29]\tvalid_0's binary_logloss: 0.442353\tvalid_0's f1: 0.705284\n",
      "[30]\tvalid_0's binary_logloss: 0.440723\tvalid_0's f1: 0.705284\n",
      "[31]\tvalid_0's binary_logloss: 0.439222\tvalid_0's f1: 0.706462\n",
      "[32]\tvalid_0's binary_logloss: 0.437862\tvalid_0's f1: 0.706462\n",
      "[33]\tvalid_0's binary_logloss: 0.436555\tvalid_0's f1: 0.706462\n",
      "[34]\tvalid_0's binary_logloss: 0.435423\tvalid_0's f1: 0.706462\n",
      "[35]\tvalid_0's binary_logloss: 0.434397\tvalid_0's f1: 0.707038\n",
      "[36]\tvalid_0's binary_logloss: 0.433395\tvalid_0's f1: 0.707038\n",
      "[37]\tvalid_0's binary_logloss: 0.432556\tvalid_0's f1: 0.707038\n",
      "[38]\tvalid_0's binary_logloss: 0.431793\tvalid_0's f1: 0.707038\n",
      "[39]\tvalid_0's binary_logloss: 0.430873\tvalid_0's f1: 0.706827\n",
      "[40]\tvalid_0's binary_logloss: 0.430285\tvalid_0's f1: 0.706827\n",
      "[41]\tvalid_0's binary_logloss: 0.429688\tvalid_0's f1: 0.707733\n",
      "[42]\tvalid_0's binary_logloss: 0.429135\tvalid_0's f1: 0.707733\n",
      "[43]\tvalid_0's binary_logloss: 0.428653\tvalid_0's f1: 0.707628\n",
      "[44]\tvalid_0's binary_logloss: 0.428079\tvalid_0's f1: 0.707628\n",
      "[45]\tvalid_0's binary_logloss: 0.427748\tvalid_0's f1: 0.707628\n",
      "[46]\tvalid_0's binary_logloss: 0.427478\tvalid_0's f1: 0.707628\n",
      "[47]\tvalid_0's binary_logloss: 0.42729\tvalid_0's f1: 0.707628\n",
      "[48]\tvalid_0's binary_logloss: 0.427136\tvalid_0's f1: 0.707628\n",
      "[49]\tvalid_0's binary_logloss: 0.426829\tvalid_0's f1: 0.707715\n",
      "[50]\tvalid_0's binary_logloss: 0.426756\tvalid_0's f1: 0.707715\n",
      "[51]\tvalid_0's binary_logloss: 0.426703\tvalid_0's f1: 0.707715\n",
      "[52]\tvalid_0's binary_logloss: 0.426672\tvalid_0's f1: 0.70761\n",
      "[53]\tvalid_0's binary_logloss: 0.426671\tvalid_0's f1: 0.70761\n",
      "[54]\tvalid_0's binary_logloss: 0.426698\tvalid_0's f1: 0.709907\n",
      "[55]\tvalid_0's binary_logloss: 0.426667\tvalid_0's f1: 0.711439\n",
      "[56]\tvalid_0's binary_logloss: 0.426724\tvalid_0's f1: 0.711439\n",
      "[57]\tvalid_0's binary_logloss: 0.426824\tvalid_0's f1: 0.711334\n",
      "[58]\tvalid_0's binary_logloss: 0.426905\tvalid_0's f1: 0.711334\n",
      "[59]\tvalid_0's binary_logloss: 0.42705\tvalid_0's f1: 0.711334\n",
      "[60]\tvalid_0's binary_logloss: 0.427181\tvalid_0's f1: 0.711334\n",
      "[61]\tvalid_0's binary_logloss: 0.427374\tvalid_0's f1: 0.711334\n",
      "[62]\tvalid_0's binary_logloss: 0.427537\tvalid_0's f1: 0.711334\n",
      "[63]\tvalid_0's binary_logloss: 0.427598\tvalid_0's f1: 0.711334\n",
      "[64]\tvalid_0's binary_logloss: 0.427678\tvalid_0's f1: 0.710868\n",
      "[65]\tvalid_0's binary_logloss: 0.427844\tvalid_0's f1: 0.710763\n",
      "[66]\tvalid_0's binary_logloss: 0.428002\tvalid_0's f1: 0.710658\n",
      "[67]\tvalid_0's binary_logloss: 0.42815\tvalid_0's f1: 0.710658\n",
      "[68]\tvalid_0's binary_logloss: 0.428332\tvalid_0's f1: 0.711124\n",
      "[69]\tvalid_0's binary_logloss: 0.428517\tvalid_0's f1: 0.711354\n",
      "[70]\tvalid_0's binary_logloss: 0.428806\tvalid_0's f1: 0.711689\n",
      "[71]\tvalid_0's binary_logloss: 0.428942\tvalid_0's f1: 0.712515\n",
      "[72]\tvalid_0's binary_logloss: 0.429128\tvalid_0's f1: 0.713128\n",
      "[73]\tvalid_0's binary_logloss: 0.42938\tvalid_0's f1: 0.712895\n",
      "[74]\tvalid_0's binary_logloss: 0.429629\tvalid_0's f1: 0.7134\n",
      "[75]\tvalid_0's binary_logloss: 0.429758\tvalid_0's f1: 0.71378\n",
      "[76]\tvalid_0's binary_logloss: 0.43\tvalid_0's f1: 0.713864\n",
      "[77]\tvalid_0's binary_logloss: 0.430223\tvalid_0's f1: 0.714054\n",
      "[78]\tvalid_0's binary_logloss: 0.430464\tvalid_0's f1: 0.714054\n",
      "[79]\tvalid_0's binary_logloss: 0.430728\tvalid_0's f1: 0.714054\n",
      "[80]\tvalid_0's binary_logloss: 0.430998\tvalid_0's f1: 0.714054\n",
      "[81]\tvalid_0's binary_logloss: 0.431252\tvalid_0's f1: 0.713949\n",
      "[82]\tvalid_0's binary_logloss: 0.431534\tvalid_0's f1: 0.713949\n",
      "[83]\tvalid_0's binary_logloss: 0.431814\tvalid_0's f1: 0.713949\n",
      "[84]\tvalid_0's binary_logloss: 0.432079\tvalid_0's f1: 0.713949\n",
      "[85]\tvalid_0's binary_logloss: 0.432376\tvalid_0's f1: 0.713949\n",
      "[86]\tvalid_0's binary_logloss: 0.432659\tvalid_0's f1: 0.713949\n",
      "[87]\tvalid_0's binary_logloss: 0.432945\tvalid_0's f1: 0.714054\n",
      "[88]\tvalid_0's binary_logloss: 0.433243\tvalid_0's f1: 0.714054\n",
      "[89]\tvalid_0's binary_logloss: 0.433515\tvalid_0's f1: 0.714054\n",
      "[90]\tvalid_0's binary_logloss: 0.433801\tvalid_0's f1: 0.714054\n",
      "[91]\tvalid_0's binary_logloss: 0.434094\tvalid_0's f1: 0.714054\n",
      "[92]\tvalid_0's binary_logloss: 0.434389\tvalid_0's f1: 0.714054\n",
      "[93]\tvalid_0's binary_logloss: 0.434697\tvalid_0's f1: 0.714054\n",
      "[94]\tvalid_0's binary_logloss: 0.434989\tvalid_0's f1: 0.714054\n",
      "[95]\tvalid_0's binary_logloss: 0.435284\tvalid_0's f1: 0.714054\n",
      "[96]\tvalid_0's binary_logloss: 0.435573\tvalid_0's f1: 0.714054\n",
      "[97]\tvalid_0's binary_logloss: 0.435864\tvalid_0's f1: 0.714054\n",
      "[98]\tvalid_0's binary_logloss: 0.436159\tvalid_0's f1: 0.714054\n",
      "[99]\tvalid_0's binary_logloss: 0.436448\tvalid_0's f1: 0.714054\n",
      "[100]\tvalid_0's binary_logloss: 0.436709\tvalid_0's f1: 0.714054\n",
      "[101]\tvalid_0's binary_logloss: 0.43699\tvalid_0's f1: 0.714054\n",
      "[102]\tvalid_0's binary_logloss: 0.437178\tvalid_0's f1: 0.714054\n",
      "[103]\tvalid_0's binary_logloss: 0.437402\tvalid_0's f1: 0.714054\n",
      "[104]\tvalid_0's binary_logloss: 0.437603\tvalid_0's f1: 0.714054\n",
      "[105]\tvalid_0's binary_logloss: 0.437879\tvalid_0's f1: 0.714054\n",
      "Early stopping, best iteration is:\n",
      "[55]\tvalid_0's binary_logloss: 0.426667\tvalid_0's f1: 0.711439\n",
      "0.7114391143911439\n",
      "train _K_ flod 2\n"
     ]
    },
    {
     "name": "stderr",
     "output_type": "stream",
     "text": [
      "D:\\anaconda3\\lib\\site-packages\\sklearn\\preprocessing\\label.py:151: DeprecationWarning: The truth value of an empty array is ambiguous. Returning False, but in future this will result in an error. Use `array.size > 0` to check that an array is not empty.\n",
      "  if diff:\n",
      "D:\\anaconda3\\lib\\site-packages\\sklearn\\metrics\\classification.py:1137: UndefinedMetricWarning: F-score is ill-defined and being set to 0.0 due to no true samples.\n",
      "  'recall', 'true', average, warn_for)\n"
     ]
    },
    {
     "name": "stdout",
     "output_type": "stream",
     "text": [
      "[1]\tvalid_0's binary_logloss: 0.63942\tvalid_0's f1: 0\n",
      "Training until validation scores don't improve for 50 rounds.\n",
      "[2]\tvalid_0's binary_logloss: 0.621219\tvalid_0's f1: 0\n",
      "[3]\tvalid_0's binary_logloss: 0.604602\tvalid_0's f1: 0\n",
      "[4]\tvalid_0's binary_logloss: 0.589731\tvalid_0's f1: 0\n",
      "[5]\tvalid_0's binary_logloss: 0.576244\tvalid_0's f1: 0.382171\n",
      "[6]\tvalid_0's binary_logloss: 0.564143\tvalid_0's f1: 0.478192\n",
      "[7]\tvalid_0's binary_logloss: 0.553076\tvalid_0's f1: 0.53092\n",
      "[8]\tvalid_0's binary_logloss: 0.542891\tvalid_0's f1: 0.582269\n",
      "[9]\tvalid_0's binary_logloss: 0.533595\tvalid_0's f1: 0.608635\n",
      "[10]\tvalid_0's binary_logloss: 0.525061\tvalid_0's f1: 0.621413\n",
      "[11]\tvalid_0's binary_logloss: 0.517302\tvalid_0's f1: 0.627197\n",
      "[12]\tvalid_0's binary_logloss: 0.510197\tvalid_0's f1: 0.652318\n",
      "[13]\tvalid_0's binary_logloss: 0.503675\tvalid_0's f1: 0.687047\n",
      "[14]\tvalid_0's binary_logloss: 0.497694\tvalid_0's f1: 0.688669\n",
      "[15]\tvalid_0's binary_logloss: 0.492197\tvalid_0's f1: 0.691034\n",
      "[16]\tvalid_0's binary_logloss: 0.487147\tvalid_0's f1: 0.695424\n",
      "[17]\tvalid_0's binary_logloss: 0.482455\tvalid_0's f1: 0.695344\n",
      "[18]\tvalid_0's binary_logloss: 0.478089\tvalid_0's f1: 0.695237\n",
      "[19]\tvalid_0's binary_logloss: 0.474115\tvalid_0's f1: 0.695986\n",
      "[20]\tvalid_0's binary_logloss: 0.470507\tvalid_0's f1: 0.697574\n",
      "[21]\tvalid_0's binary_logloss: 0.467125\tvalid_0's f1: 0.700092\n",
      "[22]\tvalid_0's binary_logloss: 0.464075\tvalid_0's f1: 0.701445\n",
      "[23]\tvalid_0's binary_logloss: 0.460994\tvalid_0's f1: 0.701808\n",
      "[24]\tvalid_0's binary_logloss: 0.458179\tvalid_0's f1: 0.703838\n",
      "[25]\tvalid_0's binary_logloss: 0.455705\tvalid_0's f1: 0.703838\n",
      "[26]\tvalid_0's binary_logloss: 0.45341\tvalid_0's f1: 0.703838\n",
      "[27]\tvalid_0's binary_logloss: 0.451268\tvalid_0's f1: 0.70535\n",
      "[28]\tvalid_0's binary_logloss: 0.449344\tvalid_0's f1: 0.70535\n",
      "[29]\tvalid_0's binary_logloss: 0.44765\tvalid_0's f1: 0.70535\n",
      "[30]\tvalid_0's binary_logloss: 0.446117\tvalid_0's f1: 0.706554\n",
      "[31]\tvalid_0's binary_logloss: 0.444734\tvalid_0's f1: 0.706554\n",
      "[32]\tvalid_0's binary_logloss: 0.443397\tvalid_0's f1: 0.706554\n",
      "[33]\tvalid_0's binary_logloss: 0.442225\tvalid_0's f1: 0.706554\n",
      "[34]\tvalid_0's binary_logloss: 0.441248\tvalid_0's f1: 0.706554\n",
      "[35]\tvalid_0's binary_logloss: 0.440326\tvalid_0's f1: 0.707628\n",
      "[36]\tvalid_0's binary_logloss: 0.439546\tvalid_0's f1: 0.70819\n",
      "[37]\tvalid_0's binary_logloss: 0.438764\tvalid_0's f1: 0.70766\n",
      "[38]\tvalid_0's binary_logloss: 0.438018\tvalid_0's f1: 0.710255\n",
      "[39]\tvalid_0's binary_logloss: 0.437412\tvalid_0's f1: 0.710255\n",
      "[40]\tvalid_0's binary_logloss: 0.436756\tvalid_0's f1: 0.710621\n",
      "[41]\tvalid_0's binary_logloss: 0.436243\tvalid_0's f1: 0.710621\n",
      "[42]\tvalid_0's binary_logloss: 0.435825\tvalid_0's f1: 0.71261\n",
      "[43]\tvalid_0's binary_logloss: 0.435512\tvalid_0's f1: 0.712907\n",
      "[44]\tvalid_0's binary_logloss: 0.435075\tvalid_0's f1: 0.712907\n",
      "[45]\tvalid_0's binary_logloss: 0.434879\tvalid_0's f1: 0.713183\n",
      "[46]\tvalid_0's binary_logloss: 0.434775\tvalid_0's f1: 0.713183\n",
      "[47]\tvalid_0's binary_logloss: 0.434703\tvalid_0's f1: 0.712865\n",
      "[48]\tvalid_0's binary_logloss: 0.434605\tvalid_0's f1: 0.713905\n",
      "[49]\tvalid_0's binary_logloss: 0.434567\tvalid_0's f1: 0.713799\n",
      "[50]\tvalid_0's binary_logloss: 0.434539\tvalid_0's f1: 0.713968\n",
      "[51]\tvalid_0's binary_logloss: 0.434576\tvalid_0's f1: 0.714286\n",
      "[52]\tvalid_0's binary_logloss: 0.434653\tvalid_0's f1: 0.713968\n",
      "[53]\tvalid_0's binary_logloss: 0.434737\tvalid_0's f1: 0.714286\n",
      "[54]\tvalid_0's binary_logloss: 0.434843\tvalid_0's f1: 0.714286\n",
      "[55]\tvalid_0's binary_logloss: 0.434994\tvalid_0's f1: 0.714286\n",
      "[56]\tvalid_0's binary_logloss: 0.435167\tvalid_0's f1: 0.716184\n",
      "[57]\tvalid_0's binary_logloss: 0.435222\tvalid_0's f1: 0.716563\n",
      "[58]\tvalid_0's binary_logloss: 0.435436\tvalid_0's f1: 0.716563\n",
      "[59]\tvalid_0's binary_logloss: 0.435657\tvalid_0's f1: 0.716942\n",
      "[60]\tvalid_0's binary_logloss: 0.43587\tvalid_0's f1: 0.717548\n",
      "[61]\tvalid_0's binary_logloss: 0.436148\tvalid_0's f1: 0.717548\n",
      "[62]\tvalid_0's binary_logloss: 0.436271\tvalid_0's f1: 0.717737\n",
      "[63]\tvalid_0's binary_logloss: 0.436564\tvalid_0's f1: 0.717548\n",
      "[64]\tvalid_0's binary_logloss: 0.43689\tvalid_0's f1: 0.717631\n",
      "[65]\tvalid_0's binary_logloss: 0.437236\tvalid_0's f1: 0.717631\n",
      "[66]\tvalid_0's binary_logloss: 0.43755\tvalid_0's f1: 0.717631\n",
      "[67]\tvalid_0's binary_logloss: 0.437919\tvalid_0's f1: 0.717631\n",
      "[68]\tvalid_0's binary_logloss: 0.438144\tvalid_0's f1: 0.717737\n",
      "[69]\tvalid_0's binary_logloss: 0.438518\tvalid_0's f1: 0.717737\n",
      "[70]\tvalid_0's binary_logloss: 0.43891\tvalid_0's f1: 0.717737\n",
      "[71]\tvalid_0's binary_logloss: 0.439276\tvalid_0's f1: 0.717359\n",
      "[72]\tvalid_0's binary_logloss: 0.439672\tvalid_0's f1: 0.717692\n",
      "[73]\tvalid_0's binary_logloss: 0.440052\tvalid_0's f1: 0.717337\n",
      "[74]\tvalid_0's binary_logloss: 0.440428\tvalid_0's f1: 0.717337\n",
      "[75]\tvalid_0's binary_logloss: 0.440814\tvalid_0's f1: 0.717337\n",
      "[76]\tvalid_0's binary_logloss: 0.441157\tvalid_0's f1: 0.717337\n",
      "[77]\tvalid_0's binary_logloss: 0.44155\tvalid_0's f1: 0.717231\n",
      "[78]\tvalid_0's binary_logloss: 0.441922\tvalid_0's f1: 0.717231\n",
      "[79]\tvalid_0's binary_logloss: 0.442234\tvalid_0's f1: 0.717231\n",
      "[80]\tvalid_0's binary_logloss: 0.44264\tvalid_0's f1: 0.717126\n",
      "[81]\tvalid_0's binary_logloss: 0.443069\tvalid_0's f1: 0.71702\n",
      "[82]\tvalid_0's binary_logloss: 0.443506\tvalid_0's f1: 0.716642\n",
      "[83]\tvalid_0's binary_logloss: 0.443789\tvalid_0's f1: 0.716642\n",
      "[84]\tvalid_0's binary_logloss: 0.444226\tvalid_0's f1: 0.717292\n",
      "[85]\tvalid_0's binary_logloss: 0.444475\tvalid_0's f1: 0.717292\n",
      "[86]\tvalid_0's binary_logloss: 0.444821\tvalid_0's f1: 0.716831\n",
      "[87]\tvalid_0's binary_logloss: 0.445163\tvalid_0's f1: 0.717103\n",
      "[88]\tvalid_0's binary_logloss: 0.44551\tvalid_0's f1: 0.717103\n",
      "[89]\tvalid_0's binary_logloss: 0.445849\tvalid_0's f1: 0.717103\n",
      "[90]\tvalid_0's binary_logloss: 0.446198\tvalid_0's f1: 0.717103\n",
      "[91]\tvalid_0's binary_logloss: 0.44663\tvalid_0's f1: 0.717103\n",
      "[92]\tvalid_0's binary_logloss: 0.447069\tvalid_0's f1: 0.717103\n",
      "[93]\tvalid_0's binary_logloss: 0.447363\tvalid_0's f1: 0.716998\n",
      "[94]\tvalid_0's binary_logloss: 0.447709\tvalid_0's f1: 0.716998\n",
      "[95]\tvalid_0's binary_logloss: 0.448021\tvalid_0's f1: 0.716809\n",
      "[96]\tvalid_0's binary_logloss: 0.448317\tvalid_0's f1: 0.716809\n",
      "[97]\tvalid_0's binary_logloss: 0.448662\tvalid_0's f1: 0.716809\n",
      "[98]\tvalid_0's binary_logloss: 0.448972\tvalid_0's f1: 0.716809\n",
      "[99]\tvalid_0's binary_logloss: 0.449387\tvalid_0's f1: 0.716809\n",
      "[100]\tvalid_0's binary_logloss: 0.449715\tvalid_0's f1: 0.716809\n",
      "Early stopping, best iteration is:\n",
      "[50]\tvalid_0's binary_logloss: 0.434539\tvalid_0's f1: 0.713968\n"
     ]
    },
    {
     "name": "stderr",
     "output_type": "stream",
     "text": [
      "D:\\anaconda3\\lib\\site-packages\\sklearn\\preprocessing\\label.py:151: DeprecationWarning: The truth value of an empty array is ambiguous. Returning False, but in future this will result in an error. Use `array.size > 0` to check that an array is not empty.\n",
      "  if diff:\n"
     ]
    },
    {
     "name": "stdout",
     "output_type": "stream",
     "text": [
      "0.7139683009924456\n",
      "train _K_ flod 3\n"
     ]
    },
    {
     "name": "stderr",
     "output_type": "stream",
     "text": [
      "D:\\anaconda3\\lib\\site-packages\\sklearn\\metrics\\classification.py:1137: UndefinedMetricWarning: F-score is ill-defined and being set to 0.0 due to no true samples.\n",
      "  'recall', 'true', average, warn_for)\n"
     ]
    },
    {
     "name": "stdout",
     "output_type": "stream",
     "text": [
      "[1]\tvalid_0's binary_logloss: 0.638871\tvalid_0's f1: 0\n",
      "Training until validation scores don't improve for 50 rounds.\n",
      "[2]\tvalid_0's binary_logloss: 0.620182\tvalid_0's f1: 0\n",
      "[3]\tvalid_0's binary_logloss: 0.603178\tvalid_0's f1: 0\n",
      "[4]\tvalid_0's binary_logloss: 0.588067\tvalid_0's f1: 0\n",
      "[5]\tvalid_0's binary_logloss: 0.574176\tvalid_0's f1: 0.396014\n",
      "[6]\tvalid_0's binary_logloss: 0.561704\tvalid_0's f1: 0.497542\n",
      "[7]\tvalid_0's binary_logloss: 0.55021\tvalid_0's f1: 0.54206\n",
      "[8]\tvalid_0's binary_logloss: 0.53972\tvalid_0's f1: 0.596844\n",
      "[9]\tvalid_0's binary_logloss: 0.530199\tvalid_0's f1: 0.623716\n",
      "[10]\tvalid_0's binary_logloss: 0.521303\tvalid_0's f1: 0.634146\n",
      "[11]\tvalid_0's binary_logloss: 0.513144\tvalid_0's f1: 0.639632\n",
      "[12]\tvalid_0's binary_logloss: 0.505664\tvalid_0's f1: 0.679221\n",
      "[13]\tvalid_0's binary_logloss: 0.49886\tvalid_0's f1: 0.685696\n",
      "[14]\tvalid_0's binary_logloss: 0.492601\tvalid_0's f1: 0.687126\n",
      "[15]\tvalid_0's binary_logloss: 0.486852\tvalid_0's f1: 0.69347\n",
      "[16]\tvalid_0's binary_logloss: 0.481622\tvalid_0's f1: 0.697818\n",
      "[17]\tvalid_0's binary_logloss: 0.476556\tvalid_0's f1: 0.699089\n",
      "[18]\tvalid_0's binary_logloss: 0.472069\tvalid_0's f1: 0.699089\n",
      "[19]\tvalid_0's binary_logloss: 0.467931\tvalid_0's f1: 0.700447\n",
      "[20]\tvalid_0's binary_logloss: 0.464053\tvalid_0's f1: 0.703209\n",
      "[21]\tvalid_0's binary_logloss: 0.460435\tvalid_0's f1: 0.704677\n",
      "[22]\tvalid_0's binary_logloss: 0.45713\tvalid_0's f1: 0.705703\n",
      "[23]\tvalid_0's binary_logloss: 0.454071\tvalid_0's f1: 0.705703\n",
      "[24]\tvalid_0's binary_logloss: 0.451259\tvalid_0's f1: 0.708251\n",
      "[25]\tvalid_0's binary_logloss: 0.44843\tvalid_0's f1: 0.708251\n",
      "[26]\tvalid_0's binary_logloss: 0.445898\tvalid_0's f1: 0.708251\n",
      "[27]\tvalid_0's binary_logloss: 0.443535\tvalid_0's f1: 0.709931\n",
      "[28]\tvalid_0's binary_logloss: 0.44157\tvalid_0's f1: 0.709823\n",
      "[29]\tvalid_0's binary_logloss: 0.439769\tvalid_0's f1: 0.709931\n",
      "[30]\tvalid_0's binary_logloss: 0.438108\tvalid_0's f1: 0.710056\n",
      "[31]\tvalid_0's binary_logloss: 0.436578\tvalid_0's f1: 0.710056\n",
      "[32]\tvalid_0's binary_logloss: 0.434942\tvalid_0's f1: 0.710056\n",
      "[33]\tvalid_0's binary_logloss: 0.433518\tvalid_0's f1: 0.710056\n",
      "[34]\tvalid_0's binary_logloss: 0.432363\tvalid_0's f1: 0.710056\n",
      "[35]\tvalid_0's binary_logloss: 0.43126\tvalid_0's f1: 0.710625\n",
      "[36]\tvalid_0's binary_logloss: 0.430279\tvalid_0's f1: 0.710518\n",
      "[37]\tvalid_0's binary_logloss: 0.429338\tvalid_0's f1: 0.710238\n",
      "[38]\tvalid_0's binary_logloss: 0.42851\tvalid_0's f1: 0.710238\n",
      "[39]\tvalid_0's binary_logloss: 0.427826\tvalid_0's f1: 0.710238\n",
      "[40]\tvalid_0's binary_logloss: 0.427186\tvalid_0's f1: 0.710238\n",
      "[41]\tvalid_0's binary_logloss: 0.426585\tvalid_0's f1: 0.712255\n",
      "[42]\tvalid_0's binary_logloss: 0.426047\tvalid_0's f1: 0.712986\n",
      "[43]\tvalid_0's binary_logloss: 0.425462\tvalid_0's f1: 0.714583\n",
      "[44]\tvalid_0's binary_logloss: 0.425048\tvalid_0's f1: 0.714775\n",
      "[45]\tvalid_0's binary_logloss: 0.424695\tvalid_0's f1: 0.715157\n",
      "[46]\tvalid_0's binary_logloss: 0.424427\tvalid_0's f1: 0.714434\n",
      "[47]\tvalid_0's binary_logloss: 0.424218\tvalid_0's f1: 0.714434\n",
      "[48]\tvalid_0's binary_logloss: 0.424071\tvalid_0's f1: 0.714794\n",
      "[49]\tvalid_0's binary_logloss: 0.423933\tvalid_0's f1: 0.715702\n",
      "[50]\tvalid_0's binary_logloss: 0.423832\tvalid_0's f1: 0.714983\n",
      "[51]\tvalid_0's binary_logloss: 0.423774\tvalid_0's f1: 0.714983\n",
      "[52]\tvalid_0's binary_logloss: 0.423754\tvalid_0's f1: 0.714983\n",
      "[53]\tvalid_0's binary_logloss: 0.423766\tvalid_0's f1: 0.715173\n",
      "[54]\tvalid_0's binary_logloss: 0.423785\tvalid_0's f1: 0.715173\n",
      "[55]\tvalid_0's binary_logloss: 0.42375\tvalid_0's f1: 0.715634\n",
      "[56]\tvalid_0's binary_logloss: 0.423765\tvalid_0's f1: 0.716202\n",
      "[57]\tvalid_0's binary_logloss: 0.42387\tvalid_0's f1: 0.716286\n",
      "[58]\tvalid_0's binary_logloss: 0.423956\tvalid_0's f1: 0.716286\n",
      "[59]\tvalid_0's binary_logloss: 0.424106\tvalid_0's f1: 0.716286\n",
      "[60]\tvalid_0's binary_logloss: 0.424286\tvalid_0's f1: 0.716286\n",
      "[61]\tvalid_0's binary_logloss: 0.424488\tvalid_0's f1: 0.71618\n",
      "[62]\tvalid_0's binary_logloss: 0.424732\tvalid_0's f1: 0.71618\n",
      "[63]\tvalid_0's binary_logloss: 0.424928\tvalid_0's f1: 0.716392\n",
      "[64]\tvalid_0's binary_logloss: 0.425165\tvalid_0's f1: 0.716392\n",
      "[65]\tvalid_0's binary_logloss: 0.425419\tvalid_0's f1: 0.716392\n",
      "[66]\tvalid_0's binary_logloss: 0.425648\tvalid_0's f1: 0.716392\n",
      "[67]\tvalid_0's binary_logloss: 0.425944\tvalid_0's f1: 0.716392\n",
      "[68]\tvalid_0's binary_logloss: 0.426211\tvalid_0's f1: 0.716392\n",
      "[69]\tvalid_0's binary_logloss: 0.426525\tvalid_0's f1: 0.716392\n",
      "[70]\tvalid_0's binary_logloss: 0.426856\tvalid_0's f1: 0.716392\n",
      "[71]\tvalid_0's binary_logloss: 0.427164\tvalid_0's f1: 0.716392\n",
      "[72]\tvalid_0's binary_logloss: 0.427468\tvalid_0's f1: 0.716392\n",
      "[73]\tvalid_0's binary_logloss: 0.427789\tvalid_0's f1: 0.716392\n",
      "[74]\tvalid_0's binary_logloss: 0.428142\tvalid_0's f1: 0.716392\n",
      "[75]\tvalid_0's binary_logloss: 0.428462\tvalid_0's f1: 0.716392\n",
      "[76]\tvalid_0's binary_logloss: 0.428828\tvalid_0's f1: 0.716392\n",
      "[77]\tvalid_0's binary_logloss: 0.42917\tvalid_0's f1: 0.716392\n",
      "[78]\tvalid_0's binary_logloss: 0.429468\tvalid_0's f1: 0.716392\n",
      "[79]\tvalid_0's binary_logloss: 0.429815\tvalid_0's f1: 0.716392\n",
      "[80]\tvalid_0's binary_logloss: 0.430204\tvalid_0's f1: 0.716392\n",
      "[81]\tvalid_0's binary_logloss: 0.430546\tvalid_0's f1: 0.716392\n",
      "[82]\tvalid_0's binary_logloss: 0.430895\tvalid_0's f1: 0.716392\n",
      "[83]\tvalid_0's binary_logloss: 0.431247\tvalid_0's f1: 0.716392\n",
      "[84]\tvalid_0's binary_logloss: 0.431603\tvalid_0's f1: 0.716608\n",
      "[85]\tvalid_0's binary_logloss: 0.431969\tvalid_0's f1: 0.716753\n",
      "[86]\tvalid_0's binary_logloss: 0.432329\tvalid_0's f1: 0.716819\n",
      "[87]\tvalid_0's binary_logloss: 0.432689\tvalid_0's f1: 0.716819\n",
      "[88]\tvalid_0's binary_logloss: 0.433048\tvalid_0's f1: 0.716819\n",
      "[89]\tvalid_0's binary_logloss: 0.433423\tvalid_0's f1: 0.716819\n",
      "[90]\tvalid_0's binary_logloss: 0.433782\tvalid_0's f1: 0.716819\n",
      "[91]\tvalid_0's binary_logloss: 0.434192\tvalid_0's f1: 0.716819\n",
      "[92]\tvalid_0's binary_logloss: 0.434594\tvalid_0's f1: 0.716819\n",
      "[93]\tvalid_0's binary_logloss: 0.434995\tvalid_0's f1: 0.716819\n",
      "[94]\tvalid_0's binary_logloss: 0.43535\tvalid_0's f1: 0.717054\n",
      "[95]\tvalid_0's binary_logloss: 0.435704\tvalid_0's f1: 0.717054\n",
      "[96]\tvalid_0's binary_logloss: 0.436056\tvalid_0's f1: 0.717054\n",
      "[97]\tvalid_0's binary_logloss: 0.436378\tvalid_0's f1: 0.717054\n",
      "[98]\tvalid_0's binary_logloss: 0.436731\tvalid_0's f1: 0.717054\n",
      "[99]\tvalid_0's binary_logloss: 0.437081\tvalid_0's f1: 0.717054\n",
      "[100]\tvalid_0's binary_logloss: 0.437407\tvalid_0's f1: 0.71716\n",
      "[101]\tvalid_0's binary_logloss: 0.437738\tvalid_0's f1: 0.71716\n",
      "[102]\tvalid_0's binary_logloss: 0.438083\tvalid_0's f1: 0.71716\n",
      "[103]\tvalid_0's binary_logloss: 0.438433\tvalid_0's f1: 0.71716\n",
      "[104]\tvalid_0's binary_logloss: 0.438689\tvalid_0's f1: 0.71716\n",
      "[105]\tvalid_0's binary_logloss: 0.43904\tvalid_0's f1: 0.71716\n",
      "Early stopping, best iteration is:\n",
      "[55]\tvalid_0's binary_logloss: 0.42375\tvalid_0's f1: 0.715634\n",
      "0.7156342182890856\n",
      "train _K_ flod 4\n"
     ]
    },
    {
     "name": "stderr",
     "output_type": "stream",
     "text": [
      "D:\\anaconda3\\lib\\site-packages\\sklearn\\preprocessing\\label.py:151: DeprecationWarning: The truth value of an empty array is ambiguous. Returning False, but in future this will result in an error. Use `array.size > 0` to check that an array is not empty.\n",
      "  if diff:\n",
      "D:\\anaconda3\\lib\\site-packages\\sklearn\\metrics\\classification.py:1137: UndefinedMetricWarning: F-score is ill-defined and being set to 0.0 due to no true samples.\n",
      "  'recall', 'true', average, warn_for)\n"
     ]
    },
    {
     "name": "stdout",
     "output_type": "stream",
     "text": [
      "[1]\tvalid_0's binary_logloss: 0.63955\tvalid_0's f1: 0\n",
      "Training until validation scores don't improve for 50 rounds.\n",
      "[2]\tvalid_0's binary_logloss: 0.621334\tvalid_0's f1: 0\n",
      "[3]\tvalid_0's binary_logloss: 0.604988\tvalid_0's f1: 0\n",
      "[4]\tvalid_0's binary_logloss: 0.590281\tvalid_0's f1: 0\n",
      "[5]\tvalid_0's binary_logloss: 0.57699\tvalid_0's f1: 0.370753\n",
      "[6]\tvalid_0's binary_logloss: 0.564764\tvalid_0's f1: 0.47744\n",
      "[7]\tvalid_0's binary_logloss: 0.553883\tvalid_0's f1: 0.530271\n",
      "[8]\tvalid_0's binary_logloss: 0.543752\tvalid_0's f1: 0.578012\n",
      "[9]\tvalid_0's binary_logloss: 0.534496\tvalid_0's f1: 0.605291\n",
      "[10]\tvalid_0's binary_logloss: 0.526083\tvalid_0's f1: 0.615224\n",
      "[11]\tvalid_0's binary_logloss: 0.518275\tvalid_0's f1: 0.620452\n",
      "[12]\tvalid_0's binary_logloss: 0.511099\tvalid_0's f1: 0.654695\n",
      "[13]\tvalid_0's binary_logloss: 0.504515\tvalid_0's f1: 0.666774\n",
      "[14]\tvalid_0's binary_logloss: 0.498395\tvalid_0's f1: 0.679587\n",
      "[15]\tvalid_0's binary_logloss: 0.492888\tvalid_0's f1: 0.682327\n",
      "[16]\tvalid_0's binary_logloss: 0.487835\tvalid_0's f1: 0.68567\n",
      "[17]\tvalid_0's binary_logloss: 0.483037\tvalid_0's f1: 0.68567\n",
      "[18]\tvalid_0's binary_logloss: 0.478529\tvalid_0's f1: 0.687578\n",
      "[19]\tvalid_0's binary_logloss: 0.474403\tvalid_0's f1: 0.688937\n",
      "[20]\tvalid_0's binary_logloss: 0.470728\tvalid_0's f1: 0.693198\n",
      "[21]\tvalid_0's binary_logloss: 0.467357\tvalid_0's f1: 0.693419\n",
      "[22]\tvalid_0's binary_logloss: 0.464163\tvalid_0's f1: 0.693665\n",
      "[23]\tvalid_0's binary_logloss: 0.461019\tvalid_0's f1: 0.693771\n",
      "[24]\tvalid_0's binary_logloss: 0.458211\tvalid_0's f1: 0.694508\n",
      "[25]\tvalid_0's binary_logloss: 0.455654\tvalid_0's f1: 0.694508\n",
      "[26]\tvalid_0's binary_logloss: 0.453473\tvalid_0's f1: 0.694508\n",
      "[27]\tvalid_0's binary_logloss: 0.451259\tvalid_0's f1: 0.695559\n",
      "[28]\tvalid_0's binary_logloss: 0.449237\tvalid_0's f1: 0.695559\n",
      "[29]\tvalid_0's binary_logloss: 0.447481\tvalid_0's f1: 0.695559\n",
      "[30]\tvalid_0's binary_logloss: 0.445909\tvalid_0's f1: 0.695559\n",
      "[31]\tvalid_0's binary_logloss: 0.44445\tvalid_0's f1: 0.695559\n",
      "[32]\tvalid_0's binary_logloss: 0.443086\tvalid_0's f1: 0.698176\n",
      "[33]\tvalid_0's binary_logloss: 0.44186\tvalid_0's f1: 0.698176\n",
      "[34]\tvalid_0's binary_logloss: 0.440814\tvalid_0's f1: 0.698176\n",
      "[35]\tvalid_0's binary_logloss: 0.439814\tvalid_0's f1: 0.698374\n",
      "[36]\tvalid_0's binary_logloss: 0.438877\tvalid_0's f1: 0.698591\n",
      "[37]\tvalid_0's binary_logloss: 0.438062\tvalid_0's f1: 0.69897\n",
      "[38]\tvalid_0's binary_logloss: 0.437173\tvalid_0's f1: 0.701405\n",
      "[39]\tvalid_0's binary_logloss: 0.436413\tvalid_0's f1: 0.701871\n",
      "[40]\tvalid_0's binary_logloss: 0.435677\tvalid_0's f1: 0.701961\n",
      "[41]\tvalid_0's binary_logloss: 0.435141\tvalid_0's f1: 0.701749\n",
      "[42]\tvalid_0's binary_logloss: 0.434624\tvalid_0's f1: 0.702451\n",
      "[43]\tvalid_0's binary_logloss: 0.434184\tvalid_0's f1: 0.702451\n",
      "[44]\tvalid_0's binary_logloss: 0.433865\tvalid_0's f1: 0.702345\n",
      "[45]\tvalid_0's binary_logloss: 0.433611\tvalid_0's f1: 0.702345\n",
      "[46]\tvalid_0's binary_logloss: 0.43337\tvalid_0's f1: 0.702345\n",
      "[47]\tvalid_0's binary_logloss: 0.433196\tvalid_0's f1: 0.70224\n",
      "[48]\tvalid_0's binary_logloss: 0.433111\tvalid_0's f1: 0.70224\n",
      "[49]\tvalid_0's binary_logloss: 0.43303\tvalid_0's f1: 0.70224\n",
      "[50]\tvalid_0's binary_logloss: 0.432907\tvalid_0's f1: 0.702825\n",
      "[51]\tvalid_0's binary_logloss: 0.432904\tvalid_0's f1: 0.702825\n",
      "[52]\tvalid_0's binary_logloss: 0.432942\tvalid_0's f1: 0.702621\n",
      "[53]\tvalid_0's binary_logloss: 0.432993\tvalid_0's f1: 0.702621\n",
      "[54]\tvalid_0's binary_logloss: 0.433039\tvalid_0's f1: 0.702703\n",
      "[55]\tvalid_0's binary_logloss: 0.43313\tvalid_0's f1: 0.702703\n",
      "[56]\tvalid_0's binary_logloss: 0.43322\tvalid_0's f1: 0.702703\n",
      "[57]\tvalid_0's binary_logloss: 0.433373\tvalid_0's f1: 0.703287\n",
      "[58]\tvalid_0's binary_logloss: 0.433485\tvalid_0's f1: 0.703926\n",
      "[59]\tvalid_0's binary_logloss: 0.433634\tvalid_0's f1: 0.703909\n",
      "[60]\tvalid_0's binary_logloss: 0.433816\tvalid_0's f1: 0.704192\n",
      "[61]\tvalid_0's binary_logloss: 0.433983\tvalid_0's f1: 0.704086\n",
      "[62]\tvalid_0's binary_logloss: 0.434222\tvalid_0's f1: 0.704086\n",
      "[63]\tvalid_0's binary_logloss: 0.434459\tvalid_0's f1: 0.704086\n",
      "[64]\tvalid_0's binary_logloss: 0.434752\tvalid_0's f1: 0.703909\n",
      "[65]\tvalid_0's binary_logloss: 0.435034\tvalid_0's f1: 0.704014\n",
      "[66]\tvalid_0's binary_logloss: 0.435339\tvalid_0's f1: 0.703909\n",
      "[67]\tvalid_0's binary_logloss: 0.435658\tvalid_0's f1: 0.703909\n",
      "[68]\tvalid_0's binary_logloss: 0.435955\tvalid_0's f1: 0.703909\n",
      "[69]\tvalid_0's binary_logloss: 0.436223\tvalid_0's f1: 0.703804\n",
      "[70]\tvalid_0's binary_logloss: 0.436525\tvalid_0's f1: 0.704386\n",
      "[71]\tvalid_0's binary_logloss: 0.436868\tvalid_0's f1: 0.704386\n",
      "[72]\tvalid_0's binary_logloss: 0.437171\tvalid_0's f1: 0.704297\n",
      "[73]\tvalid_0's binary_logloss: 0.437474\tvalid_0's f1: 0.704967\n",
      "[74]\tvalid_0's binary_logloss: 0.437716\tvalid_0's f1: 0.705372\n",
      "[75]\tvalid_0's binary_logloss: 0.438074\tvalid_0's f1: 0.705161\n",
      "[76]\tvalid_0's binary_logloss: 0.438318\tvalid_0's f1: 0.705249\n",
      "[77]\tvalid_0's binary_logloss: 0.43859\tvalid_0's f1: 0.705161\n",
      "[78]\tvalid_0's binary_logloss: 0.438994\tvalid_0's f1: 0.705161\n",
      "[79]\tvalid_0's binary_logloss: 0.439311\tvalid_0's f1: 0.705161\n",
      "[80]\tvalid_0's binary_logloss: 0.439598\tvalid_0's f1: 0.705619\n",
      "[81]\tvalid_0's binary_logloss: 0.439886\tvalid_0's f1: 0.705812\n",
      "[82]\tvalid_0's binary_logloss: 0.440181\tvalid_0's f1: 0.705812\n",
      "[83]\tvalid_0's binary_logloss: 0.440475\tvalid_0's f1: 0.705812\n",
      "[84]\tvalid_0's binary_logloss: 0.440783\tvalid_0's f1: 0.705812\n",
      "[85]\tvalid_0's binary_logloss: 0.441113\tvalid_0's f1: 0.705812\n",
      "[86]\tvalid_0's binary_logloss: 0.441404\tvalid_0's f1: 0.705812\n",
      "[87]\tvalid_0's binary_logloss: 0.441703\tvalid_0's f1: 0.705812\n",
      "[88]\tvalid_0's binary_logloss: 0.442003\tvalid_0's f1: 0.705812\n",
      "[89]\tvalid_0's binary_logloss: 0.442325\tvalid_0's f1: 0.705812\n",
      "[90]\tvalid_0's binary_logloss: 0.442655\tvalid_0's f1: 0.705812\n",
      "[91]\tvalid_0's binary_logloss: 0.442983\tvalid_0's f1: 0.705812\n",
      "[92]\tvalid_0's binary_logloss: 0.44332\tvalid_0's f1: 0.705619\n",
      "[93]\tvalid_0's binary_logloss: 0.443645\tvalid_0's f1: 0.705619\n",
      "[94]\tvalid_0's binary_logloss: 0.443975\tvalid_0's f1: 0.705619\n",
      "[95]\tvalid_0's binary_logloss: 0.444288\tvalid_0's f1: 0.705619\n",
      "[96]\tvalid_0's binary_logloss: 0.444617\tvalid_0's f1: 0.705619\n",
      "[97]\tvalid_0's binary_logloss: 0.444927\tvalid_0's f1: 0.705619\n",
      "[98]\tvalid_0's binary_logloss: 0.445238\tvalid_0's f1: 0.705619\n",
      "[99]\tvalid_0's binary_logloss: 0.44556\tvalid_0's f1: 0.705619\n",
      "[100]\tvalid_0's binary_logloss: 0.445867\tvalid_0's f1: 0.705619\n",
      "[101]\tvalid_0's binary_logloss: 0.446176\tvalid_0's f1: 0.705619\n",
      "Early stopping, best iteration is:\n",
      "[51]\tvalid_0's binary_logloss: 0.432904\tvalid_0's f1: 0.702825\n",
      "0.7028245192307693\n",
      "\n",
      "\n",
      "Eventually score: 0.7102504188701821\n"
     ]
    },
    {
     "name": "stderr",
     "output_type": "stream",
     "text": [
      "D:\\anaconda3\\lib\\site-packages\\sklearn\\preprocessing\\label.py:151: DeprecationWarning: The truth value of an empty array is ambiguous. Returning False, but in future this will result in an error. Use `array.size > 0` to check that an array is not empty.\n",
      "  if diff:\n"
     ]
    }
   ],
   "source": [
    "xx_logloss = []\n",
    "xx_submit = []\n",
    "LGBM_classify = lgb.LGBMClassifier(boosting_type='gbdt', objective='binary', num_leaves=32, \n",
    "                                   learning_rate=0.05, subsample_freq=5, n_estimators=5000, silent=False)\n",
    "# LGBM_classify.print_evaluation(period=50, show_stdv=True)\n",
    "for k, (train_vali, test_vali) in enumerate(skf.split(X_vali_, X_vali_label_)):\n",
    "    print('train _K_ flod', k)\n",
    "    X_train_combine = np.vstack([X, X_vali_[train_vali]])\n",
    "    Y_train_combine = np.hstack([y, X_vali_label_[train_vali]])\n",
    "    \n",
    "    LGBM_classify.fit(X_train_combine, Y_train_combine, \n",
    "                      eval_set=(X_vali_[test_vali], X_vali_label_[test_vali]),\n",
    "                      early_stopping_rounds=50, eval_sample_weight=None,eval_metric=lgb_f1_score_sk)\n",
    "    print(f1_score(X_vali_label_[test_vali],\n",
    "                   LGBM_classify.predict(X_vali_[test_vali], num_iteration=LGBM_classify.best_iteration_)))\n",
    "    xx_logloss.append(LGBM_classify._best_score['valid_0']['f1'])\n",
    "    xx_submit.append(LGBM_classify.predict_proba(X_test_, num_iteration=gbm.best_iteration))\n",
    "print('\\n\\nEventually score:', np.mean(xx_logloss))"
   ]
  },
  {
   "cell_type": "code",
   "execution_count": 28,
   "metadata": {},
   "outputs": [
    {
     "name": "stdout",
     "output_type": "stream",
     "text": [
      "train_logloss: 0.7102504188701821\n"
     ]
    }
   ],
   "source": [
    "print('train_logloss:', np.mean(xx_logloss))\n",
    "s = 0\n",
    "for i in xx_submit:\n",
    "    s = s + i"
   ]
  },
  {
   "cell_type": "code",
   "execution_count": 40,
   "metadata": {
    "collapsed": true
   },
   "outputs": [],
   "source": [
    "test_data_['pred_label'] = list(s[:, 0] / N)\n",
    "test_data_['pred_label'] = test_data_['pred_label'].apply(lambda x: round(x))"
   ]
  },
  {
   "cell_type": "code",
   "execution_count": 138,
   "metadata": {},
   "outputs": [
    {
     "name": "stdout",
     "output_type": "stream",
     "text": [
      "0.8269731376350041\n"
     ]
    }
   ],
   "source": [
    "# print(f1_score(X_vali_label_, val_data_['pred_label']))"
   ]
  },
  {
   "cell_type": "code",
   "execution_count": 42,
   "metadata": {
    "collapsed": true
   },
   "outputs": [],
   "source": [
    "# print('test_logloss:', np.mean(test_data_.label))\n",
    "test_data_['pred_label'].to_csv('../data/result.csv',index = False)"
   ]
  },
  {
   "cell_type": "code",
   "execution_count": null,
   "metadata": {
    "collapsed": true
   },
   "outputs": [],
   "source": []
  },
  {
   "cell_type": "code",
   "execution_count": null,
   "metadata": {
    "collapsed": true
   },
   "outputs": [],
   "source": []
  }
 ],
 "metadata": {
  "kernelspec": {
   "display_name": "Python 3",
   "language": "python",
   "name": "python3"
  },
  "language_info": {
   "codemirror_mode": {
    "name": "ipython",
    "version": 3
   },
   "file_extension": ".py",
   "mimetype": "text/x-python",
   "name": "python",
   "nbconvert_exporter": "python",
   "pygments_lexer": "ipython3",
   "version": "3.6.6"
  }
 },
 "nbformat": 4,
 "nbformat_minor": 2
}
