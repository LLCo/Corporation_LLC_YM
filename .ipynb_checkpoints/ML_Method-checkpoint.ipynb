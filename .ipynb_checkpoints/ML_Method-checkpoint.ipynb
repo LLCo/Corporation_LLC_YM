{
 "cells": [
  {
   "cell_type": "code",
   "execution_count": 148,
   "metadata": {},
   "outputs": [],
   "source": [
    "import pandas as pd\n",
    "import numpy as np\n",
    "import lightgbm as lgb\n",
    "from sklearn.model_selection import StratifiedKFold\n",
    "from sklearn.metrics import f1_score"
   ]
  },
  {
   "cell_type": "code",
   "execution_count": 228,
   "metadata": {
    "collapsed": true
   },
   "outputs": [],
   "source": [
    "def lgb_f1_score(y_hat, data):\n",
    "    y_true = data.get_label()\n",
    "    y_hat = np.round(y_hat) # scikits f1 doesn't like probabilities\n",
    "    return 'f1', f1_score(y_true, y_hat), True\n",
    "\n",
    "def lgb_f1_score_sk(y_hat, y_true):\n",
    "    y_true = np.round(y_true)\n",
    "    y_hat = np.round(y_hat) # scikits f1 doesn't like probabilities\n",
    "    return 'f1', f1_score(y_true, y_hat), True"
   ]
  },
  {
   "cell_type": "code",
   "execution_count": 149,
   "metadata": {
    "collapsed": true
   },
   "outputs": [],
   "source": [
    "pd.set_option('display.expand_frame_repr', False)"
   ]
  },
  {
   "cell_type": "code",
   "execution_count": 150,
   "metadata": {},
   "outputs": [
    {
     "name": "stderr",
     "output_type": "stream",
     "text": [
      "D:\\anaconda3\\lib\\site-packages\\IPython\\core\\interactiveshell.py:2717: DtypeWarning: Columns (4) have mixed types. Specify dtype option on import or set low_memory=False.\n",
      "  interactivity=interactivity, compiler=compiler, result=result)\n"
     ]
    }
   ],
   "source": [
    "train_data = pd.read_table('../data/oppo_round1_train_20180929.txt', \n",
    "        names= ['prefix','query_prediction','title','tag','label'], header= None, encoding='utf-8').astype(str)\n",
    "val_data = pd.read_table('../data/oppo_round1_vali_20180929.txt', \n",
    "        names = ['prefix','query_prediction','title','tag','label'], header = None, encoding='utf-8').astype(str)\n",
    "test_data = pd.read_table('../data/oppo_round1_test_A_20180929.txt',\n",
    "        names = ['prefix','query_prediction','title','tag'],header = None, encoding='utf-8').astype(str)"
   ]
  },
  {
   "cell_type": "code",
   "execution_count": 151,
   "metadata": {
    "scrolled": true
   },
   "outputs": [],
   "source": [
    "# train_data.describe(include='all')\n",
    "# print(train_data.dtypes)\n",
    "# print()\n",
    "# # Focus first on null values\n",
    "# print(val_data.isna().sum())\n",
    "# print(val_data.head())"
   ]
  },
  {
   "cell_type": "code",
   "execution_count": 152,
   "metadata": {},
   "outputs": [],
   "source": [
    "train_data = train_data[train_data['label'] != '音乐' ]"
   ]
  },
  {
   "cell_type": "code",
   "execution_count": 153,
   "metadata": {},
   "outputs": [],
   "source": [
    "test_data['label'] = -1"
   ]
  },
  {
   "cell_type": "code",
   "execution_count": 154,
   "metadata": {
    "collapsed": true
   },
   "outputs": [],
   "source": [
    "# train_data = pd.concat([train_data,val_data.copy()])\n",
    "train_data['label'] = train_data['label'].apply(lambda x: int(x))\n",
    "val_data['label'] = val_data['label'].apply(lambda x: int(x))\n",
    "test_data['label'] = test_data['label'].apply(lambda x: int(x))"
   ]
  },
  {
   "cell_type": "code",
   "execution_count": 155,
   "metadata": {
    "collapsed": true
   },
   "outputs": [],
   "source": [
    "items = ['prefix', 'title', 'tag']"
   ]
  },
  {
   "cell_type": "markdown",
   "metadata": {},
   "source": [
    "## 以下部分用于生成统计特征\n",
    "\n",
    "共21组，分别为prefix，title，tag的统计特征或是他们任意组合的统计特征。\n",
    "统计特征为：CTR，CTC，Count\n",
    "\n",
    "## groupby(items，as_index)[‘target’].agg({name:func,...}) 的用法解释\n",
    "\n",
    "以items进行分组，然后对每一组（items相同）的target对象进行多个函数操作。\n",
    "func代表操作的名称，name代表操作后保存的列的名称"
   ]
  },
  {
   "cell_type": "code",
   "execution_count": 156,
   "metadata": {},
   "outputs": [],
   "source": [
    "temp = train_data.groupby(items, as_index=False)['label'].agg({'_'.join(items)+'_click': 'sum','_'.join(items)+'_count':'count'})\n",
    "temp['_'.join(items)+'_ctr'] = temp['_'.join(items)+'_click']/(temp['_'.join(items)+'_count'])\n",
    "train_data = pd.merge(train_data, temp, on=items, how='left')\n",
    "val_data = pd.merge(val_data, temp, on=items, how='left')\n",
    "test_data = pd.merge(test_data, temp, on=items, how='left')\n",
    "\n",
    "for item in items:\n",
    "    temp = train_data.groupby(item, as_index = False)['label'].agg({item+'_click':'sum', item+'_count':'count'})\n",
    "    temp[item+'_ctr'] = temp[item+'_click']/(temp[item+'_count'])\n",
    "    train_data = pd.merge(train_data, temp, on=item, how='left')\n",
    "    val_data = pd.merge(val_data, temp, on=item, how='left')\n",
    "    test_data = pd.merge(test_data, temp, on=item, how='left')\n",
    "    \n",
    "for i in range(len(items)):\n",
    "    for j in range(i+1, len(items)):\n",
    "        item_g = [items[i], items[j]]\n",
    "        temp = train_data.groupby(item_g, as_index=False)['label'].agg({'_'.join(item_g)+'_click': 'sum','_'.join(item_g)+'_count':'count'})\n",
    "        temp['_'.join(item_g)+'_ctr'] = temp['_'.join(item_g)+'_click']/(temp['_'.join(item_g)+'_count'])\n",
    "        train_data = pd.merge(train_data, temp, on=item_g, how='left')\n",
    "        val_data = pd.merge(val_data, temp, on=item_g, how='left')\n",
    "        test_data = pd.merge(test_data, temp, on=item_g, how='left')"
   ]
  },
  {
   "cell_type": "code",
   "execution_count": 157,
   "metadata": {
    "scrolled": true
   },
   "outputs": [],
   "source": [
    "# train_data_.head()\n",
    "# train_data_.describe()\n",
    "# train_data_.dtypes\n",
    "# train_data_.isna().sum()"
   ]
  },
  {
   "cell_type": "code",
   "execution_count": 158,
   "metadata": {},
   "outputs": [],
   "source": [
    "train_data_ = train_data.drop(['prefix', 'query_prediction', 'title', 'tag'], axis = 1)\n",
    "val_data_ = val_data.drop(['prefix', 'query_prediction', 'title', 'tag'], axis = 1)\n",
    "test_data_ = test_data.drop(['prefix', 'query_prediction', 'title', 'tag'], axis = 1)"
   ]
  },
  {
   "cell_type": "code",
   "execution_count": 165,
   "metadata": {
    "scrolled": true
   },
   "outputs": [
    {
     "name": "stdout",
     "output_type": "stream",
     "text": [
      "train beginning\n",
      "================================\n",
      "(1999998, 21)\n",
      "(1999998,)\n",
      "(50000,)\n",
      "(50000, 21)\n",
      "================================\n"
     ]
    }
   ],
   "source": [
    "print('train beginning')\n",
    "\n",
    "X = np.array(train_data_.drop(['label'], axis = 1))\n",
    "y = np.array(train_data_['label'])\n",
    "X_test_ = np.array(test_data_.drop(['label'], axis = 1))\n",
    "X_vali_label_ = np.array(val_data_.loc[:, 'label'])\n",
    "X_vali_ = np.array(val_data_.drop(['label'], axis = 1))\n",
    "print('================================')\n",
    "print(X.shape)\n",
    "print(y.shape)\n",
    "print(X_vali_label_.shape)\n",
    "print(X_vali_.shape)\n",
    "print('================================')"
   ]
  },
  {
   "cell_type": "code",
   "execution_count": null,
   "metadata": {},
   "outputs": [],
   "source": [
    "# print('================================')\n",
    "# print(X_vali_label_.shape)\n",
    "# print(X_vali_.shape)\n",
    "# print('================================')\n",
    "# skf = StratifiedKFold(n_splits=N, random_state=42, shuffle=True)\n",
    "# k_fold = skf.split(X_vali_, X_vali_label_)\n",
    "# k_fold = list(k_fold)"
   ]
  },
  {
   "cell_type": "code",
   "execution_count": 166,
   "metadata": {
    "collapsed": true
   },
   "outputs": [],
   "source": [
    "xx_logloss = []\n",
    "xx_submit = []\n",
    "N = 5\n",
    "skf = StratifiedKFold(n_splits=N, random_state=42, shuffle=True)\n",
    "\n",
    "params = {\n",
    "    'boosting_type': 'gbdt',\n",
    "    'objective': 'binary',\n",
    "    'metric': 'binary_logloss',\n",
    "    'num_leaves': 32,\n",
    "    'learning_rate': 0.05,\n",
    "    'feature_fraction': 0.9,\n",
    "    'bagging_fraction': 0.8,\n",
    "    'bagging_freq': 5,\n",
    "    'verbose': 1\n",
    "}"
   ]
  },
  {
   "cell_type": "code",
   "execution_count": 184,
   "metadata": {},
   "outputs": [
    {
     "data": {
      "text/plain": [
       "array([0, 0, 1, ..., 0, 1, 1], dtype=int64)"
      ]
     },
     "execution_count": 184,
     "metadata": {},
     "output_type": "execute_result"
    }
   ],
   "source": []
  },
  {
   "cell_type": "code",
   "execution_count": 225,
   "metadata": {
    "scrolled": true
   },
   "outputs": [
    {
     "name": "stdout",
     "output_type": "stream",
     "text": [
      "train _K_ flod 0\n"
     ]
    },
    {
     "name": "stderr",
     "output_type": "stream",
     "text": [
      "D:\\anaconda3\\lib\\site-packages\\sklearn\\metrics\\classification.py:1135: UndefinedMetricWarning: F-score is ill-defined and being set to 0.0 due to no predicted samples.\n",
      "  'precision', 'predicted', average, warn_for)\n"
     ]
    },
    {
     "name": "stdout",
     "output_type": "stream",
     "text": [
      "Training until validation scores don't improve for 50 rounds.\n",
      "[50]\tvalid_0's binary_logloss: 0.436646\tvalid_0's f1: 0.708729\n",
      "Early stopping, best iteration is:\n",
      "[49]\tvalid_0's binary_logloss: 0.436639\tvalid_0's f1: 0.70798\n",
      "0.7079803834150691\n",
      "train _K_ flod 1\n",
      "Training until validation scores don't improve for 50 rounds.\n",
      "[50]\tvalid_0's binary_logloss: 0.426766\tvalid_0's f1: 0.707993\n",
      "[100]\tvalid_0's binary_logloss: 0.436949\tvalid_0's f1: 0.71263\n",
      "Early stopping, best iteration is:\n",
      "[53]\tvalid_0's binary_logloss: 0.426544\tvalid_0's f1: 0.708962\n",
      "0.7089618456078084\n",
      "train _K_ flod 2\n",
      "Training until validation scores don't improve for 50 rounds.\n",
      "[50]\tvalid_0's binary_logloss: 0.434612\tvalid_0's f1: 0.713247\n",
      "Early stopping, best iteration is:\n",
      "[49]\tvalid_0's binary_logloss: 0.434602\tvalid_0's f1: 0.713247\n",
      "0.713247292686545\n",
      "train _K_ flod 3\n",
      "Training until validation scores don't improve for 50 rounds.\n",
      "[50]\tvalid_0's binary_logloss: 0.424211\tvalid_0's f1: 0.714094\n",
      "[100]\tvalid_0's binary_logloss: 0.437148\tvalid_0's f1: 0.717684\n",
      "Early stopping, best iteration is:\n",
      "[52]\tvalid_0's binary_logloss: 0.424152\tvalid_0's f1: 0.71384\n",
      "0.7138397502601457\n",
      "train _K_ flod 4\n",
      "Training until validation scores don't improve for 50 rounds.\n",
      "[50]\tvalid_0's binary_logloss: 0.43298\tvalid_0's f1: 0.702613\n",
      "[100]\tvalid_0's binary_logloss: 0.446284\tvalid_0's f1: 0.704192\n",
      "Early stopping, best iteration is:\n",
      "[50]\tvalid_0's binary_logloss: 0.43298\tvalid_0's f1: 0.702613\n",
      "0.7026133974166416\n",
      "Eventually score: 3.54664266938621\n"
     ]
    }
   ],
   "source": [
    "xx_logloss = []\n",
    "xx_submit = []\n",
    "for k, (train_vali, test_vali) in enumerate(skf.split(X_vali_, X_vali_label_)):\n",
    "    print('train _K_ flod', k)\n",
    "    X_train_combine = np.vstack([X, X_vali_[train_vali]])\n",
    "    Y_train_combine = np.hstack([y, X_vali_label_[train_vali]])\n",
    "    \n",
    "    lgb_train = lgb.Dataset(X_train_combine, Y_train_combine)\n",
    "    lgb_eval = lgb.Dataset(X_vali_[test_vali], X_vali_label_[test_vali], reference=lgb_train)\n",
    "\n",
    "    gbm = lgb.train(params,\n",
    "                    lgb_train,\n",
    "                    num_boost_round=5000,\n",
    "                    valid_sets=lgb_eval,\n",
    "                    early_stopping_rounds=50,\n",
    "                    verbose_eval=50,\n",
    "                    feval=lgb_f1_score\n",
    "                    )\n",
    "    \n",
    "    print(f1_score(X_vali_label_[test_vali], \n",
    "                   np.where(gbm.predict(X_vali_[test_vali], num_iteration=gbm.best_iteration)>0.5, 1,0)))\n",
    "    xx_logloss.append(gbm.best_score['valid_0']['f1'])\n",
    "    xx_submit.append(gbm.predict(X_vali_, num_iteration=gbm.best_iteration))\n",
    "print('Eventually score:', np.mean(xx_logloss))"
   ]
  },
  {
   "cell_type": "code",
   "execution_count": 229,
   "metadata": {},
   "outputs": [
    {
     "name": "stdout",
     "output_type": "stream",
     "text": [
      "train _K_ flod 0\n"
     ]
    },
    {
     "name": "stderr",
     "output_type": "stream",
     "text": [
      "D:\\anaconda3\\lib\\site-packages\\sklearn\\metrics\\classification.py:1137: UndefinedMetricWarning: F-score is ill-defined and being set to 0.0 due to no true samples.\n",
      "  'recall', 'true', average, warn_for)\n"
     ]
    },
    {
     "name": "stdout",
     "output_type": "stream",
     "text": [
      "[1]\tvalid_0's binary_logloss: 0.639613\tvalid_0's f1: 0\n",
      "Training until validation scores don't improve for 50 rounds.\n",
      "[2]\tvalid_0's binary_logloss: 0.62148\tvalid_0's f1: 0\n",
      "[3]\tvalid_0's binary_logloss: 0.605142\tvalid_0's f1: 0\n",
      "[4]\tvalid_0's binary_logloss: 0.590486\tvalid_0's f1: 0\n",
      "[5]\tvalid_0's binary_logloss: 0.57711\tvalid_0's f1: 0.377246\n",
      "[6]\tvalid_0's binary_logloss: 0.565153\tvalid_0's f1: 0.485793\n",
      "[7]\tvalid_0's binary_logloss: 0.554116\tvalid_0's f1: 0.532426\n",
      "[8]\tvalid_0's binary_logloss: 0.544132\tvalid_0's f1: 0.588955\n",
      "[9]\tvalid_0's binary_logloss: 0.534946\tvalid_0's f1: 0.611674\n",
      "[10]\tvalid_0's binary_logloss: 0.526499\tvalid_0's f1: 0.623623\n",
      "[11]\tvalid_0's binary_logloss: 0.518698\tvalid_0's f1: 0.627947\n",
      "[12]\tvalid_0's binary_logloss: 0.511623\tvalid_0's f1: 0.668584\n",
      "[13]\tvalid_0's binary_logloss: 0.505131\tvalid_0's f1: 0.671855\n",
      "[14]\tvalid_0's binary_logloss: 0.499245\tvalid_0's f1: 0.679584\n",
      "[15]\tvalid_0's binary_logloss: 0.493894\tvalid_0's f1: 0.687296\n",
      "[16]\tvalid_0's binary_logloss: 0.488831\tvalid_0's f1: 0.689762\n",
      "[17]\tvalid_0's binary_logloss: 0.484254\tvalid_0's f1: 0.690432\n",
      "[18]\tvalid_0's binary_logloss: 0.479856\tvalid_0's f1: 0.690432\n",
      "[19]\tvalid_0's binary_logloss: 0.475764\tvalid_0's f1: 0.69339\n",
      "[20]\tvalid_0's binary_logloss: 0.471955\tvalid_0's f1: 0.69339\n",
      "[21]\tvalid_0's binary_logloss: 0.468624\tvalid_0's f1: 0.695626\n",
      "[22]\tvalid_0's binary_logloss: 0.465526\tvalid_0's f1: 0.698153\n",
      "[23]\tvalid_0's binary_logloss: 0.46266\tvalid_0's f1: 0.698153\n",
      "[24]\tvalid_0's binary_logloss: 0.459942\tvalid_0's f1: 0.700105\n",
      "[25]\tvalid_0's binary_logloss: 0.457391\tvalid_0's f1: 0.700105\n",
      "[26]\tvalid_0's binary_logloss: 0.455085\tvalid_0's f1: 0.700105\n",
      "[27]\tvalid_0's binary_logloss: 0.452986\tvalid_0's f1: 0.701591\n",
      "[28]\tvalid_0's binary_logloss: 0.451197\tvalid_0's f1: 0.701591\n",
      "[29]\tvalid_0's binary_logloss: 0.44959\tvalid_0's f1: 0.701591\n",
      "[30]\tvalid_0's binary_logloss: 0.448128\tvalid_0's f1: 0.701591\n",
      "[31]\tvalid_0's binary_logloss: 0.446817\tvalid_0's f1: 0.703067\n",
      "[32]\tvalid_0's binary_logloss: 0.445453\tvalid_0's f1: 0.703067\n",
      "[33]\tvalid_0's binary_logloss: 0.444382\tvalid_0's f1: 0.703067\n",
      "[34]\tvalid_0's binary_logloss: 0.443367\tvalid_0's f1: 0.703067\n",
      "[35]\tvalid_0's binary_logloss: 0.442453\tvalid_0's f1: 0.704091\n",
      "[36]\tvalid_0's binary_logloss: 0.441571\tvalid_0's f1: 0.704091\n",
      "[37]\tvalid_0's binary_logloss: 0.440743\tvalid_0's f1: 0.704284\n",
      "[38]\tvalid_0's binary_logloss: 0.440141\tvalid_0's f1: 0.704284\n",
      "[39]\tvalid_0's binary_logloss: 0.439466\tvalid_0's f1: 0.703809\n",
      "[40]\tvalid_0's binary_logloss: 0.438884\tvalid_0's f1: 0.706601\n",
      "[41]\tvalid_0's binary_logloss: 0.438429\tvalid_0's f1: 0.706601\n",
      "[42]\tvalid_0's binary_logloss: 0.43793\tvalid_0's f1: 0.707491\n",
      "[43]\tvalid_0's binary_logloss: 0.437616\tvalid_0's f1: 0.707491\n",
      "[44]\tvalid_0's binary_logloss: 0.437367\tvalid_0's f1: 0.707491\n",
      "[45]\tvalid_0's binary_logloss: 0.437223\tvalid_0's f1: 0.707491\n",
      "[46]\tvalid_0's binary_logloss: 0.437135\tvalid_0's f1: 0.707491\n",
      "[47]\tvalid_0's binary_logloss: 0.437095\tvalid_0's f1: 0.707491\n",
      "[48]\tvalid_0's binary_logloss: 0.436959\tvalid_0's f1: 0.707386\n",
      "[49]\tvalid_0's binary_logloss: 0.436921\tvalid_0's f1: 0.707386\n",
      "[50]\tvalid_0's binary_logloss: 0.436913\tvalid_0's f1: 0.707386\n",
      "[51]\tvalid_0's binary_logloss: 0.436857\tvalid_0's f1: 0.707386\n",
      "[52]\tvalid_0's binary_logloss: 0.436865\tvalid_0's f1: 0.707838\n",
      "[53]\tvalid_0's binary_logloss: 0.436969\tvalid_0's f1: 0.707838\n",
      "[54]\tvalid_0's binary_logloss: 0.437123\tvalid_0's f1: 0.707838\n",
      "[55]\tvalid_0's binary_logloss: 0.437307\tvalid_0's f1: 0.709534\n",
      "[56]\tvalid_0's binary_logloss: 0.437529\tvalid_0's f1: 0.709534\n",
      "[57]\tvalid_0's binary_logloss: 0.437695\tvalid_0's f1: 0.709496\n",
      "[58]\tvalid_0's binary_logloss: 0.437967\tvalid_0's f1: 0.709877\n",
      "[59]\tvalid_0's binary_logloss: 0.438164\tvalid_0's f1: 0.709496\n",
      "[60]\tvalid_0's binary_logloss: 0.438394\tvalid_0's f1: 0.709392\n",
      "[61]\tvalid_0's binary_logloss: 0.438685\tvalid_0's f1: 0.709773\n",
      "[62]\tvalid_0's binary_logloss: 0.438837\tvalid_0's f1: 0.710153\n",
      "[63]\tvalid_0's binary_logloss: 0.439184\tvalid_0's f1: 0.710724\n",
      "[64]\tvalid_0's binary_logloss: 0.439487\tvalid_0's f1: 0.710724\n",
      "[65]\tvalid_0's binary_logloss: 0.439863\tvalid_0's f1: 0.710724\n",
      "[66]\tvalid_0's binary_logloss: 0.440235\tvalid_0's f1: 0.710724\n",
      "[67]\tvalid_0's binary_logloss: 0.440589\tvalid_0's f1: 0.710344\n",
      "[68]\tvalid_0's binary_logloss: 0.440999\tvalid_0's f1: 0.709687\n",
      "[69]\tvalid_0's binary_logloss: 0.441405\tvalid_0's f1: 0.709687\n",
      "[70]\tvalid_0's binary_logloss: 0.441818\tvalid_0's f1: 0.709687\n",
      "[71]\tvalid_0's binary_logloss: 0.442181\tvalid_0's f1: 0.710554\n",
      "[72]\tvalid_0's binary_logloss: 0.442526\tvalid_0's f1: 0.710554\n",
      "[73]\tvalid_0's binary_logloss: 0.442889\tvalid_0's f1: 0.710449\n",
      "[74]\tvalid_0's binary_logloss: 0.443297\tvalid_0's f1: 0.710363\n",
      "[75]\tvalid_0's binary_logloss: 0.443666\tvalid_0's f1: 0.71119\n",
      "[76]\tvalid_0's binary_logloss: 0.444051\tvalid_0's f1: 0.711314\n",
      "[77]\tvalid_0's binary_logloss: 0.444488\tvalid_0's f1: 0.711884\n",
      "[78]\tvalid_0's binary_logloss: 0.444895\tvalid_0's f1: 0.711714\n",
      "[79]\tvalid_0's binary_logloss: 0.4452\tvalid_0's f1: 0.711714\n",
      "[80]\tvalid_0's binary_logloss: 0.445537\tvalid_0's f1: 0.711924\n",
      "[81]\tvalid_0's binary_logloss: 0.445907\tvalid_0's f1: 0.711924\n",
      "[82]\tvalid_0's binary_logloss: 0.446297\tvalid_0's f1: 0.711924\n",
      "[83]\tvalid_0's binary_logloss: 0.446754\tvalid_0's f1: 0.711544\n",
      "[84]\tvalid_0's binary_logloss: 0.447147\tvalid_0's f1: 0.711544\n",
      "[85]\tvalid_0's binary_logloss: 0.447482\tvalid_0's f1: 0.711544\n",
      "[86]\tvalid_0's binary_logloss: 0.447872\tvalid_0's f1: 0.711544\n",
      "[87]\tvalid_0's binary_logloss: 0.448229\tvalid_0's f1: 0.711544\n",
      "[88]\tvalid_0's binary_logloss: 0.448602\tvalid_0's f1: 0.711544\n",
      "[89]\tvalid_0's binary_logloss: 0.448949\tvalid_0's f1: 0.711544\n",
      "[90]\tvalid_0's binary_logloss: 0.449381\tvalid_0's f1: 0.711544\n",
      "[91]\tvalid_0's binary_logloss: 0.449816\tvalid_0's f1: 0.711544\n",
      "[92]\tvalid_0's binary_logloss: 0.450143\tvalid_0's f1: 0.711544\n",
      "[93]\tvalid_0's binary_logloss: 0.450514\tvalid_0's f1: 0.711544\n",
      "[94]\tvalid_0's binary_logloss: 0.450869\tvalid_0's f1: 0.711544\n",
      "[95]\tvalid_0's binary_logloss: 0.4512\tvalid_0's f1: 0.711544\n",
      "[96]\tvalid_0's binary_logloss: 0.451582\tvalid_0's f1: 0.711544\n",
      "[97]\tvalid_0's binary_logloss: 0.451919\tvalid_0's f1: 0.711544\n",
      "[98]\tvalid_0's binary_logloss: 0.452289\tvalid_0's f1: 0.711544\n",
      "[99]\tvalid_0's binary_logloss: 0.452645\tvalid_0's f1: 0.711544\n",
      "[100]\tvalid_0's binary_logloss: 0.453\tvalid_0's f1: 0.711544\n",
      "[101]\tvalid_0's binary_logloss: 0.453336\tvalid_0's f1: 0.711544\n",
      "Early stopping, best iteration is:\n",
      "[51]\tvalid_0's binary_logloss: 0.436857\tvalid_0's f1: 0.707386\n"
     ]
    },
    {
     "ename": "NameError",
     "evalue": "name 'num_iterationgbm' is not defined",
     "output_type": "error",
     "traceback": [
      "\u001b[1;31m---------------------------------------------------------------------------\u001b[0m",
      "\u001b[1;31mNameError\u001b[0m                                 Traceback (most recent call last)",
      "\u001b[1;32m<ipython-input-229-1851ce3b905e>\u001b[0m in \u001b[0;36m<module>\u001b[1;34m()\u001b[0m\n\u001b[0;32m     18\u001b[0m \u001b[1;31m#                     )\u001b[0m\u001b[1;33m\u001b[0m\u001b[1;33m\u001b[0m\u001b[0m\n\u001b[0;32m     19\u001b[0m \u001b[1;33m\u001b[0m\u001b[0m\n\u001b[1;32m---> 20\u001b[1;33m     \u001b[0mprint\u001b[0m\u001b[1;33m(\u001b[0m\u001b[0mf1_score\u001b[0m\u001b[1;33m(\u001b[0m\u001b[0mX_vali_label_\u001b[0m\u001b[1;33m[\u001b[0m\u001b[0mtest_vali\u001b[0m\u001b[1;33m]\u001b[0m\u001b[1;33m,\u001b[0m\u001b[0mLGBM_classify\u001b[0m\u001b[1;33m.\u001b[0m\u001b[0mpredict\u001b[0m\u001b[1;33m(\u001b[0m\u001b[0mX_vali_\u001b[0m\u001b[1;33m[\u001b[0m\u001b[0mtest_vali\u001b[0m\u001b[1;33m]\u001b[0m\u001b[1;33m,\u001b[0m \u001b[0mnum_iterationgbm\u001b[0m\u001b[1;33m.\u001b[0m\u001b[0mbest_iteration_\u001b[0m\u001b[1;33m)\u001b[0m\u001b[1;33m)\u001b[0m\u001b[1;33m)\u001b[0m\u001b[1;33m\u001b[0m\u001b[0m\n\u001b[0m\u001b[0;32m     21\u001b[0m     \u001b[0mxx_logloss\u001b[0m\u001b[1;33m.\u001b[0m\u001b[0mappend\u001b[0m\u001b[1;33m(\u001b[0m\u001b[0mgbm\u001b[0m\u001b[1;33m.\u001b[0m\u001b[0mbest_score\u001b[0m\u001b[1;33m[\u001b[0m\u001b[1;34m'valid_0'\u001b[0m\u001b[1;33m]\u001b[0m\u001b[1;33m[\u001b[0m\u001b[1;34m'binary_logloss'\u001b[0m\u001b[1;33m]\u001b[0m\u001b[1;33m)\u001b[0m\u001b[1;33m\u001b[0m\u001b[0m\n\u001b[0;32m     22\u001b[0m     \u001b[0mxx_submit\u001b[0m\u001b[1;33m.\u001b[0m\u001b[0mappend\u001b[0m\u001b[1;33m(\u001b[0m\u001b[0mgbm\u001b[0m\u001b[1;33m.\u001b[0m\u001b[0mpredict\u001b[0m\u001b[1;33m(\u001b[0m\u001b[0mX_vali_\u001b[0m\u001b[1;33m,\u001b[0m \u001b[0mnum_iteration\u001b[0m\u001b[1;33m=\u001b[0m\u001b[0mgbm\u001b[0m\u001b[1;33m.\u001b[0m\u001b[0mbest_iteration\u001b[0m\u001b[1;33m)\u001b[0m\u001b[1;33m)\u001b[0m\u001b[1;33m\u001b[0m\u001b[0m\n",
      "\u001b[1;31mNameError\u001b[0m: name 'num_iterationgbm' is not defined"
     ]
    }
   ],
   "source": [
    "LGBM_classify = lgb.LGBMClassifier(boosting_type='gbdt', objective='binary', num_leaves=32, \n",
    "                                   learning_rate=0.05, subsample_freq=5, n_estimators=5000, silent=False)\n",
    "# LGBM_classify.print_evaluation(period=50, show_stdv=True)\n",
    "for k, (train_vali, test_vali) in enumerate(skf.split(X_vali_, X_vali_label_)):\n",
    "    print('train _K_ flod', k)\n",
    "    X_train_combine = np.vstack([X, X_vali_[train_vali]])\n",
    "    Y_train_combine = np.hstack([y, X_vali_label_[train_vali]])\n",
    "    \n",
    "    LGBM_classify.fit(X_train_combine, Y_train_combine, \n",
    "                      eval_set=(X_vali_[test_vali], X_vali_label_[test_vali]),\n",
    "                      early_stopping_rounds=50, eval_sample_weight=None,eval_metric=lgb_f1_score_sk)\n",
    "#     gbm = lgb.train(params,\n",
    "#                     lgb_train,\n",
    "#                     num_boost_round=5000,\n",
    "#                     valid_sets=lgb_eval,\n",
    "#                     early_stopping_rounds=50,\n",
    "#                     verbose_eval=50,\n",
    "#                     )\n",
    "    \n",
    "    print(f1_score(X_vali_label_[test_vali],LGBM_classify.predict(X_vali_[test_vali], num_iterationgbm.best_iteration_)))\n",
    "    xx_logloss.append(gbm.best_score['valid_0']['binary_logloss'])\n",
    "    xx_submit.append(gbm.predict(X_vali_, num_iteration=gbm.best_iteration))"
   ]
  },
  {
   "cell_type": "code",
   "execution_count": 201,
   "metadata": {},
   "outputs": [
    {
     "data": {
      "text/plain": [
       "defaultdict(dict,\n",
       "            {'valid_0': {'binary_logloss': 0.43290392776712117,\n",
       "              'f1': 0.7028245192307693}})"
      ]
     },
     "execution_count": 201,
     "metadata": {},
     "output_type": "execute_result"
    }
   ],
   "source": [
    "LGBM_classify._best_score"
   ]
  },
  {
   "cell_type": "code",
   "execution_count": 196,
   "metadata": {},
   "outputs": [
    {
     "name": "stderr",
     "output_type": "stream",
     "text": [
      "D:\\anaconda3\\lib\\site-packages\\sklearn\\metrics\\classification.py:1137: UndefinedMetricWarning: F-score is ill-defined and being set to 0.0 due to no true samples.\n",
      "  'recall', 'true', average, warn_for)\n"
     ]
    },
    {
     "name": "stdout",
     "output_type": "stream",
     "text": [
      "[1]\tvalid_0's binary_logloss: 0.640763\tvalid_0's f1: 0\n",
      "Training until validation scores don't improve for 50 rounds.\n",
      "[2]\tvalid_0's binary_logloss: 0.624082\tvalid_0's f1: 0\n",
      "[3]\tvalid_0's binary_logloss: 0.60945\tvalid_0's f1: 0\n",
      "[4]\tvalid_0's binary_logloss: 0.596602\tvalid_0's f1: 0\n",
      "[5]\tvalid_0's binary_logloss: 0.585298\tvalid_0's f1: 0.364564\n",
      "[6]\tvalid_0's binary_logloss: 0.575374\tvalid_0's f1: 0.488913\n",
      "[7]\tvalid_0's binary_logloss: 0.566668\tvalid_0's f1: 0.538586\n",
      "[8]\tvalid_0's binary_logloss: 0.559053\tvalid_0's f1: 0.565674\n",
      "[9]\tvalid_0's binary_logloss: 0.552421\tvalid_0's f1: 0.592228\n",
      "[10]\tvalid_0's binary_logloss: 0.546672\tvalid_0's f1: 0.603862\n",
      "[11]\tvalid_0's binary_logloss: 0.541724\tvalid_0's f1: 0.608896\n",
      "[12]\tvalid_0's binary_logloss: 0.537503\tvalid_0's f1: 0.629001\n",
      "[13]\tvalid_0's binary_logloss: 0.533943\tvalid_0's f1: 0.632613\n",
      "[14]\tvalid_0's binary_logloss: 0.530986\tvalid_0's f1: 0.634759\n",
      "[15]\tvalid_0's binary_logloss: 0.528588\tvalid_0's f1: 0.640441\n",
      "[16]\tvalid_0's binary_logloss: 0.526698\tvalid_0's f1: 0.643873\n",
      "[17]\tvalid_0's binary_logloss: 0.525273\tvalid_0's f1: 0.643873\n",
      "[18]\tvalid_0's binary_logloss: 0.524282\tvalid_0's f1: 0.645342\n",
      "[19]\tvalid_0's binary_logloss: 0.523688\tvalid_0's f1: 0.646966\n",
      "[20]\tvalid_0's binary_logloss: 0.523461\tvalid_0's f1: 0.648894\n",
      "[21]\tvalid_0's binary_logloss: 0.523575\tvalid_0's f1: 0.650573\n",
      "[22]\tvalid_0's binary_logloss: 0.524005\tvalid_0's f1: 0.652185\n",
      "[23]\tvalid_0's binary_logloss: 0.524726\tvalid_0's f1: 0.652185\n",
      "[24]\tvalid_0's binary_logloss: 0.525717\tvalid_0's f1: 0.653645\n",
      "[25]\tvalid_0's binary_logloss: 0.52696\tvalid_0's f1: 0.653645\n",
      "[26]\tvalid_0's binary_logloss: 0.528435\tvalid_0's f1: 0.653645\n",
      "[27]\tvalid_0's binary_logloss: 0.530126\tvalid_0's f1: 0.655258\n",
      "[28]\tvalid_0's binary_logloss: 0.532019\tvalid_0's f1: 0.655258\n",
      "[29]\tvalid_0's binary_logloss: 0.534108\tvalid_0's f1: 0.655258\n",
      "[30]\tvalid_0's binary_logloss: 0.536373\tvalid_0's f1: 0.65669\n",
      "[31]\tvalid_0's binary_logloss: 0.5388\tvalid_0's f1: 0.65669\n",
      "[32]\tvalid_0's binary_logloss: 0.541381\tvalid_0's f1: 0.65669\n",
      "[33]\tvalid_0's binary_logloss: 0.544106\tvalid_0's f1: 0.65669\n",
      "[34]\tvalid_0's binary_logloss: 0.546963\tvalid_0's f1: 0.657745\n",
      "[35]\tvalid_0's binary_logloss: 0.549945\tvalid_0's f1: 0.657745\n",
      "[36]\tvalid_0's binary_logloss: 0.553044\tvalid_0's f1: 0.657745\n",
      "[37]\tvalid_0's binary_logloss: 0.556253\tvalid_0's f1: 0.657745\n",
      "[38]\tvalid_0's binary_logloss: 0.559566\tvalid_0's f1: 0.657745\n",
      "[39]\tvalid_0's binary_logloss: 0.562963\tvalid_0's f1: 0.658879\n",
      "[40]\tvalid_0's binary_logloss: 0.566451\tvalid_0's f1: 0.658879\n",
      "[41]\tvalid_0's binary_logloss: 0.570021\tvalid_0's f1: 0.658879\n",
      "[42]\tvalid_0's binary_logloss: 0.573669\tvalid_0's f1: 0.658879\n",
      "[43]\tvalid_0's binary_logloss: 0.577405\tvalid_0's f1: 0.658879\n",
      "[44]\tvalid_0's binary_logloss: 0.581202\tvalid_0's f1: 0.658879\n",
      "[45]\tvalid_0's binary_logloss: 0.585063\tvalid_0's f1: 0.658879\n",
      "[46]\tvalid_0's binary_logloss: 0.588985\tvalid_0's f1: 0.658879\n",
      "[47]\tvalid_0's binary_logloss: 0.592963\tvalid_0's f1: 0.658879\n",
      "[48]\tvalid_0's binary_logloss: 0.596995\tvalid_0's f1: 0.658879\n",
      "[49]\tvalid_0's binary_logloss: 0.601085\tvalid_0's f1: 0.658879\n",
      "[50]\tvalid_0's binary_logloss: 0.605222\tvalid_0's f1: 0.658879\n",
      "[51]\tvalid_0's binary_logloss: 0.609402\tvalid_0's f1: 0.658879\n",
      "[52]\tvalid_0's binary_logloss: 0.613623\tvalid_0's f1: 0.658879\n",
      "[53]\tvalid_0's binary_logloss: 0.617883\tvalid_0's f1: 0.658879\n",
      "[54]\tvalid_0's binary_logloss: 0.62218\tvalid_0's f1: 0.660158\n",
      "[55]\tvalid_0's binary_logloss: 0.626512\tvalid_0's f1: 0.660158\n",
      "[56]\tvalid_0's binary_logloss: 0.630875\tvalid_0's f1: 0.660158\n",
      "[57]\tvalid_0's binary_logloss: 0.63527\tvalid_0's f1: 0.660158\n",
      "[58]\tvalid_0's binary_logloss: 0.639693\tvalid_0's f1: 0.660158\n",
      "[59]\tvalid_0's binary_logloss: 0.644141\tvalid_0's f1: 0.660158\n",
      "[60]\tvalid_0's binary_logloss: 0.648617\tvalid_0's f1: 0.660158\n",
      "[61]\tvalid_0's binary_logloss: 0.653116\tvalid_0's f1: 0.660158\n",
      "[62]\tvalid_0's binary_logloss: 0.657636\tvalid_0's f1: 0.660158\n",
      "[63]\tvalid_0's binary_logloss: 0.662177\tvalid_0's f1: 0.660158\n",
      "[64]\tvalid_0's binary_logloss: 0.666738\tvalid_0's f1: 0.660158\n",
      "[65]\tvalid_0's binary_logloss: 0.671318\tvalid_0's f1: 0.660158\n",
      "[66]\tvalid_0's binary_logloss: 0.675915\tvalid_0's f1: 0.660158\n",
      "[67]\tvalid_0's binary_logloss: 0.680528\tvalid_0's f1: 0.660158\n",
      "[68]\tvalid_0's binary_logloss: 0.685157\tvalid_0's f1: 0.660158\n",
      "[69]\tvalid_0's binary_logloss: 0.689799\tvalid_0's f1: 0.660158\n",
      "[70]\tvalid_0's binary_logloss: 0.694456\tvalid_0's f1: 0.660158\n",
      "Early stopping, best iteration is:\n",
      "[20]\tvalid_0's binary_logloss: 0.523461\tvalid_0's f1: 0.648894\n",
      "defaultdict(<class 'dict'>, {'valid_0': {'binary_logloss': 0.5234610781524485, 'f1': 0.6488944131885386}})\n",
      "0.6488944131885386\n"
     ]
    },
    {
     "name": "stderr",
     "output_type": "stream",
     "text": [
      "D:\\anaconda3\\lib\\site-packages\\sklearn\\preprocessing\\label.py:151: DeprecationWarning: The truth value of an empty array is ambiguous. Returning False, but in future this will result in an error. Use `array.size > 0` to check that an array is not empty.\n",
      "  if diff:\n"
     ]
    }
   ],
   "source": [
    "# lgb_train = lgb.Dataset(X, y)\n",
    "# lgb_eval = lgb.Dataset(X_vali_, X_vali_label_, reference=lgb_train)\n",
    "\n",
    "def lgb_f1_score(y_hat, y_true):\n",
    "    y_true = np.round(y_true)\n",
    "    y_hat = np.round(y_hat) # scikits f1 doesn't like probabilities\n",
    "    return 'f1', f1_score(y_true, y_hat), True\n",
    "\n",
    "LGBM_classify = lgb.LGBMClassifier(boosting_type='gbdt', objective='binary', num_leaves=32, \n",
    "                                   learning_rate=0.05, subsample_freq=5)\n",
    "LGBM_classify.fit(X, y, eval_metric=lgb_f1_score, eval_set=(X_vali_, X_vali_label_), early_stopping_rounds=50, \n",
    "                  eval_sample_weight=None)\n",
    "# params = {\n",
    "#     'boosting_type': 'gbdt',\n",
    "#     'objective': 'binary',\n",
    "#     'metric': 'binary_logloss',\n",
    "#     'num_leaves': 32,\n",
    "#     'learning_rate': 0.05,\n",
    "#     'feature_fraction': 0.9,\n",
    "#     'bagging_fraction': 0.8,\n",
    "#     'bagging_freq': 5,\n",
    "#     'verbose': 1\n",
    "\n",
    "\n",
    "# gbm = lgb.train(params,\n",
    "#                 lgb_train,\n",
    "#                 num_boost_round=5000,\n",
    "#                 valid_sets=lgb_eval,\n",
    "#                 early_stopping_rounds=50,\n",
    "#                 verbose_eval=50,\n",
    "#                 )\n",
    "print(LGBM_classify.best_score_)\n",
    "print(f1_score(X_vali_label_, LGBM_classify.predict(X_vali_)))"
   ]
  },
  {
   "cell_type": "code",
   "execution_count": 136,
   "metadata": {},
   "outputs": [
    {
     "name": "stdout",
     "output_type": "stream",
     "text": [
      "train_logloss: 0.3204018945711848\n"
     ]
    }
   ],
   "source": [
    "print('train_logloss:', np.mean(xx_logloss))\n",
    "s = 0\n",
    "for i in xx_submit:\n",
    "    s = s + i"
   ]
  },
  {
   "cell_type": "code",
   "execution_count": 137,
   "metadata": {},
   "outputs": [],
   "source": [
    "val_data_['pred_label'] = list(s / N)\n",
    "val_data_['pred_label'] = val_data_['pred_label'].apply(lambda x: round(x))\n"
   ]
  },
  {
   "cell_type": "code",
   "execution_count": 138,
   "metadata": {},
   "outputs": [
    {
     "name": "stdout",
     "output_type": "stream",
     "text": [
      "0.8269731376350041\n"
     ]
    }
   ],
   "source": [
    "print(f1_score(X_vali_label_, val_data_['pred_label']))"
   ]
  },
  {
   "cell_type": "code",
   "execution_count": null,
   "metadata": {
    "collapsed": true
   },
   "outputs": [],
   "source": [
    "print('test_logloss:', np.mean(test_data_.label))\n",
    "test_data_['label'].to_csv('./submit/result.csv',index = False)"
   ]
  },
  {
   "cell_type": "code",
   "execution_count": null,
   "metadata": {
    "collapsed": true
   },
   "outputs": [],
   "source": []
  },
  {
   "cell_type": "code",
   "execution_count": null,
   "metadata": {
    "collapsed": true
   },
   "outputs": [],
   "source": []
  }
 ],
 "metadata": {
  "kernelspec": {
   "display_name": "Python 3",
   "language": "python",
   "name": "python3"
  },
  "language_info": {
   "codemirror_mode": {
    "name": "ipython",
    "version": 3
   },
   "file_extension": ".py",
   "mimetype": "text/x-python",
   "name": "python",
   "nbconvert_exporter": "python",
   "pygments_lexer": "ipython3",
   "version": "3.6.6"
  }
 },
 "nbformat": 4,
 "nbformat_minor": 2
}
